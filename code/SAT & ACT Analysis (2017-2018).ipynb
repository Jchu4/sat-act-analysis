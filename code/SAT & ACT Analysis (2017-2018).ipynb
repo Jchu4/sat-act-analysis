{
 "cells": [
  {
   "cell_type": "markdown",
   "metadata": {},
   "source": [
    "# Project 1: SAT & ACT Analysis"
   ]
  },
  {
   "cell_type": "markdown",
   "metadata": {},
   "source": [
    "## Problem Statement\n",
    "\n",
    "#### Why is there a negative correlation between participation and performance?"
   ]
  },
  {
   "cell_type": "markdown",
   "metadata": {},
   "source": [
    "## Executive Summary\n",
    "\n",
    "### Contents:\n",
    "- [2017 Data Import & Cleaning](#Data-Import-and-Cleaning)\n",
    "- [2018 Data Import and Cleaning](#2018-Data-Import-and-Cleaning)\n",
    "- [Exploratory Data Analysis](#Exploratory-Data-Analysis)\n",
    "- [Data Visualization](#Visualize-the-data)\n",
    "- [Descriptive and Inferential Statistics](#Descriptive-and-Inferential-Statistics)\n",
    "- [Outside Research](#Outside-Research)\n",
    "- [Conclusions and Recommendations](#Conclusions-and-Recommendations)"
   ]
  },
  {
   "cell_type": "markdown",
   "metadata": {},
   "source": [
    "**If you combine your problem statement, executive summary, data dictionary, and conclusions/recommendations, you have an amazing README.md file that quickly aligns your audience to the contents of your project.** Don't forget to cite your data sources!"
   ]
  },
  {
   "cell_type": "markdown",
   "metadata": {},
   "source": [
    "### Import Dependencies"
   ]
  },
  {
   "cell_type": "code",
   "execution_count": 1033,
   "metadata": {},
   "outputs": [],
   "source": [
    "import numpy as np\n",
    "import pandas as pd\n",
    "import matplotlib.pyplot as plt\n",
    "import scipy.stats as stats\n",
    "from scipy.stats import norm\n",
    "import seaborn as sns\n",
    "\n",
    "%matplotlib inline\n",
    "%config IFCompleter.greedy=True\n",
    "\n",
    "sns.set_style('darkgrid')"
   ]
  },
  {
   "cell_type": "markdown",
   "metadata": {},
   "source": [
    "## 2017 Data Import and Cleaning"
   ]
  },
  {
   "cell_type": "markdown",
   "metadata": {},
   "source": [
    "#### 1. Read In SAT & ACT  Data\n",
    "\n",
    "Read in the `sat_2017.csv` and `act_2017.csv` files and assign them to appropriately named pandas dataframes."
   ]
  },
  {
   "cell_type": "code",
   "execution_count": 1034,
   "metadata": {},
   "outputs": [],
   "source": [
    "# read SAT and ACT data\n",
    "sat_17 = pd.read_csv('../data/sat_2017.csv')\n",
    "act_17 = pd.read_csv('../data/act_2017.csv')"
   ]
  },
  {
   "cell_type": "markdown",
   "metadata": {},
   "source": [
    "#### 2. Display Data\n",
    "\n",
    "Print the first 10 rows of each dataframe to your jupyter notebook"
   ]
  },
  {
   "cell_type": "code",
   "execution_count": 1035,
   "metadata": {},
   "outputs": [
    {
     "data": {
      "text/html": [
       "<div>\n",
       "<style scoped>\n",
       "    .dataframe tbody tr th:only-of-type {\n",
       "        vertical-align: middle;\n",
       "    }\n",
       "\n",
       "    .dataframe tbody tr th {\n",
       "        vertical-align: top;\n",
       "    }\n",
       "\n",
       "    .dataframe thead th {\n",
       "        text-align: right;\n",
       "    }\n",
       "</style>\n",
       "<table border=\"1\" class=\"dataframe\">\n",
       "  <thead>\n",
       "    <tr style=\"text-align: right;\">\n",
       "      <th></th>\n",
       "      <th>State</th>\n",
       "      <th>Participation</th>\n",
       "      <th>Evidence-Based Reading and Writing</th>\n",
       "      <th>Math</th>\n",
       "      <th>Total</th>\n",
       "    </tr>\n",
       "  </thead>\n",
       "  <tbody>\n",
       "    <tr>\n",
       "      <th>0</th>\n",
       "      <td>Alabama</td>\n",
       "      <td>5%</td>\n",
       "      <td>593</td>\n",
       "      <td>572</td>\n",
       "      <td>1165</td>\n",
       "    </tr>\n",
       "    <tr>\n",
       "      <th>1</th>\n",
       "      <td>Alaska</td>\n",
       "      <td>38%</td>\n",
       "      <td>547</td>\n",
       "      <td>533</td>\n",
       "      <td>1080</td>\n",
       "    </tr>\n",
       "    <tr>\n",
       "      <th>2</th>\n",
       "      <td>Arizona</td>\n",
       "      <td>30%</td>\n",
       "      <td>563</td>\n",
       "      <td>553</td>\n",
       "      <td>1116</td>\n",
       "    </tr>\n",
       "    <tr>\n",
       "      <th>3</th>\n",
       "      <td>Arkansas</td>\n",
       "      <td>3%</td>\n",
       "      <td>614</td>\n",
       "      <td>594</td>\n",
       "      <td>1208</td>\n",
       "    </tr>\n",
       "    <tr>\n",
       "      <th>4</th>\n",
       "      <td>California</td>\n",
       "      <td>53%</td>\n",
       "      <td>531</td>\n",
       "      <td>524</td>\n",
       "      <td>1055</td>\n",
       "    </tr>\n",
       "  </tbody>\n",
       "</table>\n",
       "</div>"
      ],
      "text/plain": [
       "        State Participation  Evidence-Based Reading and Writing  Math  Total\n",
       "0     Alabama            5%                                 593   572   1165\n",
       "1      Alaska           38%                                 547   533   1080\n",
       "2     Arizona           30%                                 563   553   1116\n",
       "3    Arkansas            3%                                 614   594   1208\n",
       "4  California           53%                                 531   524   1055"
      ]
     },
     "execution_count": 1035,
     "metadata": {},
     "output_type": "execute_result"
    }
   ],
   "source": [
    "sat_17.head()"
   ]
  },
  {
   "cell_type": "code",
   "execution_count": 1036,
   "metadata": {},
   "outputs": [
    {
     "name": "stdout",
     "output_type": "stream",
     "text": [
      "<class 'pandas.core.frame.DataFrame'>\n",
      "RangeIndex: 51 entries, 0 to 50\n",
      "Data columns (total 5 columns):\n",
      "State                                 51 non-null object\n",
      "Participation                         51 non-null object\n",
      "Evidence-Based Reading and Writing    51 non-null int64\n",
      "Math                                  51 non-null int64\n",
      "Total                                 51 non-null int64\n",
      "dtypes: int64(3), object(2)\n",
      "memory usage: 2.1+ KB\n"
     ]
    }
   ],
   "source": [
    "sat_17.info()"
   ]
  },
  {
   "cell_type": "code",
   "execution_count": 1037,
   "metadata": {},
   "outputs": [
    {
     "data": {
      "text/plain": [
       "str"
      ]
     },
     "execution_count": 1037,
     "metadata": {},
     "output_type": "execute_result"
    }
   ],
   "source": [
    "# to convert to proportion\n",
    "type(sat_17['Participation'][0])"
   ]
  },
  {
   "cell_type": "code",
   "execution_count": 1038,
   "metadata": {},
   "outputs": [
    {
     "data": {
      "text/html": [
       "<div>\n",
       "<style scoped>\n",
       "    .dataframe tbody tr th:only-of-type {\n",
       "        vertical-align: middle;\n",
       "    }\n",
       "\n",
       "    .dataframe tbody tr th {\n",
       "        vertical-align: top;\n",
       "    }\n",
       "\n",
       "    .dataframe thead th {\n",
       "        text-align: right;\n",
       "    }\n",
       "</style>\n",
       "<table border=\"1\" class=\"dataframe\">\n",
       "  <thead>\n",
       "    <tr style=\"text-align: right;\">\n",
       "      <th></th>\n",
       "      <th>State</th>\n",
       "      <th>Participation</th>\n",
       "      <th>English</th>\n",
       "      <th>Math</th>\n",
       "      <th>Reading</th>\n",
       "      <th>Science</th>\n",
       "      <th>Composite</th>\n",
       "    </tr>\n",
       "  </thead>\n",
       "  <tbody>\n",
       "    <tr>\n",
       "      <th>0</th>\n",
       "      <td>National</td>\n",
       "      <td>60%</td>\n",
       "      <td>20.3</td>\n",
       "      <td>20.7</td>\n",
       "      <td>21.4</td>\n",
       "      <td>21.0</td>\n",
       "      <td>21.0</td>\n",
       "    </tr>\n",
       "    <tr>\n",
       "      <th>1</th>\n",
       "      <td>Alabama</td>\n",
       "      <td>100%</td>\n",
       "      <td>18.9</td>\n",
       "      <td>18.4</td>\n",
       "      <td>19.7</td>\n",
       "      <td>19.4</td>\n",
       "      <td>19.2</td>\n",
       "    </tr>\n",
       "    <tr>\n",
       "      <th>2</th>\n",
       "      <td>Alaska</td>\n",
       "      <td>65%</td>\n",
       "      <td>18.7</td>\n",
       "      <td>19.8</td>\n",
       "      <td>20.4</td>\n",
       "      <td>19.9</td>\n",
       "      <td>19.8</td>\n",
       "    </tr>\n",
       "    <tr>\n",
       "      <th>3</th>\n",
       "      <td>Arizona</td>\n",
       "      <td>62%</td>\n",
       "      <td>18.6</td>\n",
       "      <td>19.8</td>\n",
       "      <td>20.1</td>\n",
       "      <td>19.8</td>\n",
       "      <td>19.7</td>\n",
       "    </tr>\n",
       "    <tr>\n",
       "      <th>4</th>\n",
       "      <td>Arkansas</td>\n",
       "      <td>100%</td>\n",
       "      <td>18.9</td>\n",
       "      <td>19.0</td>\n",
       "      <td>19.7</td>\n",
       "      <td>19.5</td>\n",
       "      <td>19.4</td>\n",
       "    </tr>\n",
       "  </tbody>\n",
       "</table>\n",
       "</div>"
      ],
      "text/plain": [
       "      State Participation  English  Math  Reading  Science Composite\n",
       "0  National           60%     20.3  20.7     21.4     21.0      21.0\n",
       "1   Alabama          100%     18.9  18.4     19.7     19.4      19.2\n",
       "2    Alaska           65%     18.7  19.8     20.4     19.9      19.8\n",
       "3   Arizona           62%     18.6  19.8     20.1     19.8      19.7\n",
       "4  Arkansas          100%     18.9  19.0     19.7     19.5      19.4"
      ]
     },
     "execution_count": 1038,
     "metadata": {},
     "output_type": "execute_result"
    }
   ],
   "source": [
    "act_17.head()"
   ]
  },
  {
   "cell_type": "code",
   "execution_count": 1039,
   "metadata": {},
   "outputs": [
    {
     "name": "stdout",
     "output_type": "stream",
     "text": [
      "<class 'pandas.core.frame.DataFrame'>\n",
      "RangeIndex: 52 entries, 0 to 51\n",
      "Data columns (total 7 columns):\n",
      "State            52 non-null object\n",
      "Participation    52 non-null object\n",
      "English          52 non-null float64\n",
      "Math             52 non-null float64\n",
      "Reading          52 non-null float64\n",
      "Science          52 non-null float64\n",
      "Composite        52 non-null object\n",
      "dtypes: float64(4), object(3)\n",
      "memory usage: 2.9+ KB\n"
     ]
    }
   ],
   "source": [
    "act_17.info()"
   ]
  },
  {
   "cell_type": "code",
   "execution_count": 1040,
   "metadata": {},
   "outputs": [
    {
     "data": {
      "text/plain": [
       "(str, str)"
      ]
     },
     "execution_count": 1040,
     "metadata": {},
     "output_type": "execute_result"
    }
   ],
   "source": [
    "# to convert both to float type\n",
    "type(act_17['Participation'][0]), type(act_17['Composite'][0])"
   ]
  },
  {
   "cell_type": "markdown",
   "metadata": {},
   "source": [
    "#### 3. Verbally Describe Data"
   ]
  },
  {
   "cell_type": "markdown",
   "metadata": {},
   "source": [
    "**Data Observations:**   \n",
    "`sat_2017`:\n",
    "- total 5 columns\n",
    "- convert ['Participation'] to type *float* (proportion)\n",
    "- shorten col_name of['Evidence-Based Reading and Writing'] to 'ERW'\n",
    "\n",
    "`act_2017`:\n",
    "- total 7 columns\n",
    "- convert ['Participation'] to type *float* (as a proportion)\n",
    "- convert ['Composite'] to type *float* \n",
    "- correct State, Wyonming ['Composite'] score"
   ]
  },
  {
   "cell_type": "code",
   "execution_count": 1041,
   "metadata": {},
   "outputs": [],
   "source": [
    "# create custom hist function for quick EDA later\n",
    "def eda_hist(series, min_score = 0, max_score = 800, bins_pref = 30):\n",
    "    plt.hist(series, bins= bins_pref, range=[min_score, max_score])\n",
    "    plt.ylabel('Frequency')\n",
    "    plt.xlabel('Scores')\n",
    "    plt.axvline(series.median(), c='red')\n",
    "    \n",
    "    print('Variance: {} \\nStd.Deviation: {}\\nMax Score: {}\\nMin Score: {}'.format(np.var(series), np.std(series), np.max(series), np.min(series)))"
   ]
  },
  {
   "cell_type": "markdown",
   "metadata": {},
   "source": [
    "#### 4a. Does the data look complete? "
   ]
  },
  {
   "cell_type": "markdown",
   "metadata": {},
   "source": [
    "*Answer:*   \n",
    "Yes the dataset looks complete for the 2017 data as there all rows are non-null values. "
   ]
  },
  {
   "cell_type": "markdown",
   "metadata": {},
   "source": [
    "#### 4b. Are there any obvious issues with the observations?\n",
    "\n",
    "- What is the minimum **possible** value for each test/subtest?   \n",
    "-> SAT Test min. = 400  \n",
    "-> SAT Subtest min. = 200  \n",
    "-> ACT Test/Subtest min. = 1  \n",
    "\n",
    "- What is the maximum **possible** value?  \n",
    "-> SAT Test min. = 1600  \n",
    "-> SAT Subtest min. = 800  \n",
    "-> ACT Test/Subtest min. = 36\n",
    "\n",
    "|SAT 2017 |*(for the dataset)*| | ACT 2017|*(for the dataset)*|| | |SAT 2017 |*(possible)*| | |ACT 2017|*(possible)*| | | | | |\n",
    "|---|---|---|---|---|---|---|---|---|---|---|---|---|---|---|---|---|---|---|\n",
    "||**Max**|**Min**||**Max**|**Min**||||**Max**|**Min**||**Max**|**Min**|\n",
    "|**EBRW**|644|482|**English**|25.5|16.3|||**EBRW**|800|200|**English**|36|1| |\n",
    "|**Math**|651|52|**Math**|25.3|18|||**Math**|800|200|**Math**|36|1| |\n",
    "|**Total**|1295|950|**Reading**|26|18|||**Total**|1600|400|**Reading**|36|1| |\n",
    "||||**Science**|24.9|2.3||||||**Science**|36|1| |\n",
    "||||**Composite**|25.5|17.8||||||**Composite**|36|1 | |\n",
    "\n",
    "Consider comparing any questionable values to the sources of your data:\n",
    "- [SAT](https://blog.collegevine.com/here-are-the-average-sat-scores-by-state/)\n",
    "- [ACT](https://blog.prepscholar.com/act-scores-by-state-averages-highs-and-lows)\n",
    "\n",
    "*Reference:*\n",
    "- [Min/max SAT Scores](https://www.princetonreview.com/college/sat-act)\n",
    "- [Min/max ACT Scores](https://www.studypoint.com/ed/act-scoring/)\n"
   ]
  },
  {
   "cell_type": "code",
   "execution_count": 1042,
   "metadata": {},
   "outputs": [
    {
     "data": {
      "text/html": [
       "<div>\n",
       "<style scoped>\n",
       "    .dataframe tbody tr th:only-of-type {\n",
       "        vertical-align: middle;\n",
       "    }\n",
       "\n",
       "    .dataframe tbody tr th {\n",
       "        vertical-align: top;\n",
       "    }\n",
       "\n",
       "    .dataframe thead th {\n",
       "        text-align: right;\n",
       "    }\n",
       "</style>\n",
       "<table border=\"1\" class=\"dataframe\">\n",
       "  <thead>\n",
       "    <tr style=\"text-align: right;\">\n",
       "      <th></th>\n",
       "      <th>Evidence-Based Reading and Writing</th>\n",
       "      <th>Math</th>\n",
       "      <th>Total</th>\n",
       "    </tr>\n",
       "  </thead>\n",
       "  <tbody>\n",
       "    <tr>\n",
       "      <th>var</th>\n",
       "      <td>2085.465882</td>\n",
       "      <td>7209.558431</td>\n",
       "      <td>8555.290196</td>\n",
       "    </tr>\n",
       "    <tr>\n",
       "      <th>std</th>\n",
       "      <td>45.666901</td>\n",
       "      <td>84.909119</td>\n",
       "      <td>92.494812</td>\n",
       "    </tr>\n",
       "    <tr>\n",
       "      <th>mean</th>\n",
       "      <td>569.117647</td>\n",
       "      <td>547.627451</td>\n",
       "      <td>1126.098039</td>\n",
       "    </tr>\n",
       "    <tr>\n",
       "      <th>median</th>\n",
       "      <td>559.000000</td>\n",
       "      <td>548.000000</td>\n",
       "      <td>1107.000000</td>\n",
       "    </tr>\n",
       "    <tr>\n",
       "      <th>amax</th>\n",
       "      <td>644.000000</td>\n",
       "      <td>651.000000</td>\n",
       "      <td>1295.000000</td>\n",
       "    </tr>\n",
       "    <tr>\n",
       "      <th>amin</th>\n",
       "      <td>482.000000</td>\n",
       "      <td>52.000000</td>\n",
       "      <td>950.000000</td>\n",
       "    </tr>\n",
       "  </tbody>\n",
       "</table>\n",
       "</div>"
      ],
      "text/plain": [
       "        Evidence-Based Reading and Writing         Math        Total\n",
       "var                            2085.465882  7209.558431  8555.290196\n",
       "std                              45.666901    84.909119    92.494812\n",
       "mean                            569.117647   547.627451  1126.098039\n",
       "median                          559.000000   548.000000  1107.000000\n",
       "amax                            644.000000   651.000000  1295.000000\n",
       "amin                            482.000000    52.000000   950.000000"
      ]
     },
     "execution_count": 1042,
     "metadata": {},
     "output_type": "execute_result"
    }
   ],
   "source": [
    "# quick overview of SAT 2017 scores\n",
    "sat_17.iloc[:,2:].agg([np.var, np.std, np.mean, np.median, np.max, np.min])"
   ]
  },
  {
   "cell_type": "markdown",
   "metadata": {},
   "source": [
    "##### Explore SAT 2017 Scores"
   ]
  },
  {
   "cell_type": "code",
   "execution_count": 1043,
   "metadata": {
    "scrolled": true
   },
   "outputs": [
    {
     "name": "stdout",
     "output_type": "stream",
     "text": [
      "Variance: 7068.194540561321 \n",
      "Std.Deviation: 84.07255521608297\n",
      "Max Score: 651\n",
      "Min Score: 52\n"
     ]
    },
    {
     "data": {
      "image/png": "[encoded data removed]",
      "text/plain": [
       "<Figure size 432x288 with 1 Axes>"
      ]
     },
     "metadata": {},
     "output_type": "display_data"
    }
   ],
   "source": [
    "# quick EDA for SAT 2017 Math scores\n",
    "eda_hist(sat_17.Math, 200, 800)\n",
    "plt.title('Distribution of SAT 2017 Math Scores');"
   ]
  },
  {
   "cell_type": "code",
   "execution_count": 1044,
   "metadata": {},
   "outputs": [
    {
     "data": {
      "text/html": [
       "<div>\n",
       "<style scoped>\n",
       "    .dataframe tbody tr th:only-of-type {\n",
       "        vertical-align: middle;\n",
       "    }\n",
       "\n",
       "    .dataframe tbody tr th {\n",
       "        vertical-align: top;\n",
       "    }\n",
       "\n",
       "    .dataframe thead th {\n",
       "        text-align: right;\n",
       "    }\n",
       "</style>\n",
       "<table border=\"1\" class=\"dataframe\">\n",
       "  <thead>\n",
       "    <tr style=\"text-align: right;\">\n",
       "      <th></th>\n",
       "      <th>State</th>\n",
       "      <th>Participation</th>\n",
       "      <th>Evidence-Based Reading and Writing</th>\n",
       "      <th>Math</th>\n",
       "      <th>Total</th>\n",
       "    </tr>\n",
       "  </thead>\n",
       "  <tbody>\n",
       "    <tr>\n",
       "      <th>20</th>\n",
       "      <td>Maryland</td>\n",
       "      <td>69%</td>\n",
       "      <td>536</td>\n",
       "      <td>52</td>\n",
       "      <td>1060</td>\n",
       "    </tr>\n",
       "  </tbody>\n",
       "</table>\n",
       "</div>"
      ],
      "text/plain": [
       "       State Participation  Evidence-Based Reading and Writing  Math  Total\n",
       "20  Maryland           69%                                 536    52   1060"
      ]
     },
     "execution_count": 1044,
     "metadata": {},
     "output_type": "execute_result"
    }
   ],
   "source": [
    "# find the outlier\n",
    "sat_17[sat_17.Math == sat_17.Math.min()]"
   ]
  },
  {
   "cell_type": "code",
   "execution_count": 1045,
   "metadata": {},
   "outputs": [
    {
     "data": {
      "text/html": [
       "<div>\n",
       "<style scoped>\n",
       "    .dataframe tbody tr th:only-of-type {\n",
       "        vertical-align: middle;\n",
       "    }\n",
       "\n",
       "    .dataframe tbody tr th {\n",
       "        vertical-align: top;\n",
       "    }\n",
       "\n",
       "    .dataframe thead th {\n",
       "        text-align: right;\n",
       "    }\n",
       "</style>\n",
       "<table border=\"1\" class=\"dataframe\">\n",
       "  <thead>\n",
       "    <tr style=\"text-align: right;\">\n",
       "      <th></th>\n",
       "      <th>State</th>\n",
       "      <th>Participation</th>\n",
       "      <th>Evidence-Based Reading and Writing</th>\n",
       "      <th>Math</th>\n",
       "      <th>Total</th>\n",
       "    </tr>\n",
       "  </thead>\n",
       "  <tbody>\n",
       "    <tr>\n",
       "      <th>7</th>\n",
       "      <td>Delaware</td>\n",
       "      <td>100%</td>\n",
       "      <td>503</td>\n",
       "      <td>492</td>\n",
       "      <td>996</td>\n",
       "    </tr>\n",
       "    <tr>\n",
       "      <th>8</th>\n",
       "      <td>District of Columbia</td>\n",
       "      <td>100%</td>\n",
       "      <td>482</td>\n",
       "      <td>468</td>\n",
       "      <td>950</td>\n",
       "    </tr>\n",
       "    <tr>\n",
       "      <th>20</th>\n",
       "      <td>Maryland</td>\n",
       "      <td>69%</td>\n",
       "      <td>536</td>\n",
       "      <td>52</td>\n",
       "      <td>1060</td>\n",
       "    </tr>\n",
       "  </tbody>\n",
       "</table>\n",
       "</div>"
      ],
      "text/plain": [
       "                   State Participation  Evidence-Based Reading and Writing  \\\n",
       "7               Delaware          100%                                 503   \n",
       "8   District of Columbia          100%                                 482   \n",
       "20              Maryland           69%                                 536   \n",
       "\n",
       "    Math  Total  \n",
       "7    492    996  \n",
       "8    468    950  \n",
       "20    52   1060  "
      ]
     },
     "execution_count": 1045,
     "metadata": {},
     "output_type": "execute_result"
    }
   ],
   "source": [
    "# find bottom 3 math scores\n",
    "sat_17.sort_values(['Math'], ascending=False).tail(3)\n",
    "# typo error for Maryland's Math scores, missing a 4 at the end"
   ]
  },
  {
   "cell_type": "code",
   "execution_count": 1046,
   "metadata": {},
   "outputs": [
    {
     "name": "stdout",
     "output_type": "stream",
     "text": [
      "Variance: 2044.5743944636679 \n",
      "Std.Deviation: 45.21697020437866\n",
      "Max Score: 644\n",
      "Min Score: 482\n"
     ]
    },
    {
     "data": {
      "image/png": "[encoded data removed]",
      "text/plain": [
       "<Figure size 432x288 with 1 Axes>"
      ]
     },
     "metadata": {},
     "output_type": "display_data"
    }
   ],
   "source": [
    "eda_hist(sat_17['Evidence-Based Reading and Writing'], 200, 800)\n",
    "plt.title('Distribution of SAT 2017 ERW Scores');"
   ]
  },
  {
   "cell_type": "code",
   "execution_count": 1047,
   "metadata": {},
   "outputs": [
    {
     "name": "stdout",
     "output_type": "stream",
     "text": [
      "Variance: 8387.53940792003 \n",
      "Std.Deviation: 91.58351056778743\n",
      "Max Score: 1295\n",
      "Min Score: 950\n"
     ]
    },
    {
     "data": {
      "image/png": "[encoded data removed]",
      "text/plain": [
       "<Figure size 432x288 with 1 Axes>"
      ]
     },
     "metadata": {},
     "output_type": "display_data"
    }
   ],
   "source": [
    "eda_hist(sat_17.Total, 400, 1600, 45)\n",
    "plt.title('Distribution of SAT 2017 Total Scores');"
   ]
  },
  {
   "cell_type": "markdown",
   "metadata": {},
   "source": [
    "##### Explore ACT 2017 Scores"
   ]
  },
  {
   "cell_type": "code",
   "execution_count": 1048,
   "metadata": {},
   "outputs": [
    {
     "data": {
      "text/html": [
       "<div>\n",
       "<style scoped>\n",
       "    .dataframe tbody tr th:only-of-type {\n",
       "        vertical-align: middle;\n",
       "    }\n",
       "\n",
       "    .dataframe tbody tr th {\n",
       "        vertical-align: top;\n",
       "    }\n",
       "\n",
       "    .dataframe thead th {\n",
       "        text-align: right;\n",
       "    }\n",
       "</style>\n",
       "<table border=\"1\" class=\"dataframe\">\n",
       "  <thead>\n",
       "    <tr style=\"text-align: right;\">\n",
       "      <th></th>\n",
       "      <th>English</th>\n",
       "      <th>Math</th>\n",
       "      <th>Reading</th>\n",
       "      <th>Science</th>\n",
       "      <th>Composite</th>\n",
       "    </tr>\n",
       "  </thead>\n",
       "  <tbody>\n",
       "    <tr>\n",
       "      <th>var</th>\n",
       "      <td>5.438839</td>\n",
       "      <td>3.855732</td>\n",
       "      <td>4.197055</td>\n",
       "      <td>9.929514</td>\n",
       "      <td>NaN</td>\n",
       "    </tr>\n",
       "    <tr>\n",
       "      <th>std</th>\n",
       "      <td>2.332132</td>\n",
       "      <td>1.963602</td>\n",
       "      <td>2.048672</td>\n",
       "      <td>3.151113</td>\n",
       "      <td>NaN</td>\n",
       "    </tr>\n",
       "    <tr>\n",
       "      <th>mean</th>\n",
       "      <td>20.919231</td>\n",
       "      <td>21.173077</td>\n",
       "      <td>22.001923</td>\n",
       "      <td>21.040385</td>\n",
       "      <td>NaN</td>\n",
       "    </tr>\n",
       "    <tr>\n",
       "      <th>median</th>\n",
       "      <td>20.550000</td>\n",
       "      <td>20.900000</td>\n",
       "      <td>21.700000</td>\n",
       "      <td>21.150000</td>\n",
       "      <td>NaN</td>\n",
       "    </tr>\n",
       "    <tr>\n",
       "      <th>amax</th>\n",
       "      <td>25.500000</td>\n",
       "      <td>25.300000</td>\n",
       "      <td>26.000000</td>\n",
       "      <td>24.900000</td>\n",
       "      <td>25.5</td>\n",
       "    </tr>\n",
       "    <tr>\n",
       "      <th>amin</th>\n",
       "      <td>16.300000</td>\n",
       "      <td>18.000000</td>\n",
       "      <td>18.100000</td>\n",
       "      <td>2.300000</td>\n",
       "      <td>17.8</td>\n",
       "    </tr>\n",
       "  </tbody>\n",
       "</table>\n",
       "</div>"
      ],
      "text/plain": [
       "          English       Math    Reading    Science Composite\n",
       "var      5.438839   3.855732   4.197055   9.929514       NaN\n",
       "std      2.332132   1.963602   2.048672   3.151113       NaN\n",
       "mean    20.919231  21.173077  22.001923  21.040385       NaN\n",
       "median  20.550000  20.900000  21.700000  21.150000       NaN\n",
       "amax    25.500000  25.300000  26.000000  24.900000      25.5\n",
       "amin    16.300000  18.000000  18.100000   2.300000      17.8"
      ]
     },
     "execution_count": 1048,
     "metadata": {},
     "output_type": "execute_result"
    }
   ],
   "source": [
    "# quick overview of ACT 2017 scores\n",
    "act_17.iloc[:,2:].agg([np.var, np.std, np.mean, np.median, np.max, np.min])"
   ]
  },
  {
   "cell_type": "code",
   "execution_count": 1049,
   "metadata": {},
   "outputs": [
    {
     "name": "stdout",
     "output_type": "stream",
     "text": [
      "Variance: 9.738561390532542 \n",
      "Std.Deviation: 3.1206668182509554\n",
      "Max Score: 24.9\n",
      "Min Score: 2.3\n"
     ]
    },
    {
     "data": {
      "image/png": "[encoded data removed]",
      "text/plain": [
       "<Figure size 432x288 with 1 Axes>"
      ]
     },
     "metadata": {},
     "output_type": "display_data"
    }
   ],
   "source": [
    "# used function earlier to plot\n",
    "eda_hist(act_17.Science, 0,36,45)\n",
    "plt.title('ACT-2017 Scores');"
   ]
  },
  {
   "cell_type": "code",
   "execution_count": 1050,
   "metadata": {},
   "outputs": [
    {
     "data": {
      "text/html": [
       "<div>\n",
       "<style scoped>\n",
       "    .dataframe tbody tr th:only-of-type {\n",
       "        vertical-align: middle;\n",
       "    }\n",
       "\n",
       "    .dataframe tbody tr th {\n",
       "        vertical-align: top;\n",
       "    }\n",
       "\n",
       "    .dataframe thead th {\n",
       "        text-align: right;\n",
       "    }\n",
       "</style>\n",
       "<table border=\"1\" class=\"dataframe\">\n",
       "  <thead>\n",
       "    <tr style=\"text-align: right;\">\n",
       "      <th></th>\n",
       "      <th>State</th>\n",
       "      <th>Participation</th>\n",
       "      <th>English</th>\n",
       "      <th>Math</th>\n",
       "      <th>Reading</th>\n",
       "      <th>Science</th>\n",
       "      <th>Composite</th>\n",
       "    </tr>\n",
       "  </thead>\n",
       "  <tbody>\n",
       "    <tr>\n",
       "      <th>21</th>\n",
       "      <td>Maryland</td>\n",
       "      <td>28%</td>\n",
       "      <td>23.3</td>\n",
       "      <td>23.1</td>\n",
       "      <td>24.2</td>\n",
       "      <td>2.3</td>\n",
       "      <td>23.6</td>\n",
       "    </tr>\n",
       "  </tbody>\n",
       "</table>\n",
       "</div>"
      ],
      "text/plain": [
       "       State Participation  English  Math  Reading  Science Composite\n",
       "21  Maryland           28%     23.3  23.1     24.2      2.3      23.6"
      ]
     },
     "execution_count": 1050,
     "metadata": {},
     "output_type": "execute_result"
    }
   ],
   "source": [
    "act_17[act_17.Science == act_17.Science.min()]\n",
    "# probably a typo error again"
   ]
  },
  {
   "cell_type": "code",
   "execution_count": 1051,
   "metadata": {},
   "outputs": [
    {
     "name": "stdout",
     "output_type": "stream",
     "text": [
      "Variance: 3.78158284023669 \n",
      "Std.Deviation: 1.9446292295028094\n",
      "Max Score: 25.3\n",
      "Min Score: 18.0\n"
     ]
    },
    {
     "data": {
      "image/png": "[encoded data removed]",
      "text/plain": [
       "<Figure size 432x288 with 1 Axes>"
      ]
     },
     "metadata": {},
     "output_type": "display_data"
    }
   ],
   "source": [
    "# used function earlier to plot\n",
    "eda_hist(act_17.Math, max_score = 36)\n",
    "plt.title('ACT-2017 Math Scores');"
   ]
  },
  {
   "cell_type": "markdown",
   "metadata": {},
   "source": [
    "#### 4c. Fix any errors you identified\n",
    "\n",
    "**The data is available** so there's no need to guess or calculate anything. If you didn't find any errors, continue to the next step."
   ]
  },
  {
   "cell_type": "markdown",
   "metadata": {},
   "source": [
    "- SAT 2017 - Maryland 'Math' Scores\n",
    "\n",
    "- ACT 2017 - Maryland 'Science' Scores\n",
    "\n",
    "- correct the State, Wyoming ['Composite'] score -> remove the 'x' from 20.2x"
   ]
  },
  {
   "cell_type": "markdown",
   "metadata": {},
   "source": [
    "#### 5. What are your data types? \n",
    "Display the data types of each feature. "
   ]
  },
  {
   "cell_type": "code",
   "execution_count": 1052,
   "metadata": {
    "scrolled": true
   },
   "outputs": [
    {
     "name": "stdout",
     "output_type": "stream",
     "text": [
      "<class 'pandas.core.frame.DataFrame'>\n",
      "RangeIndex: 51 entries, 0 to 50\n",
      "Data columns (total 5 columns):\n",
      "State                                 51 non-null object\n",
      "Participation                         51 non-null object\n",
      "Evidence-Based Reading and Writing    51 non-null int64\n",
      "Math                                  51 non-null int64\n",
      "Total                                 51 non-null int64\n",
      "dtypes: int64(3), object(2)\n",
      "memory usage: 2.1+ KB\n"
     ]
    }
   ],
   "source": [
    "sat_17.info()"
   ]
  },
  {
   "cell_type": "code",
   "execution_count": 1053,
   "metadata": {},
   "outputs": [
    {
     "name": "stdout",
     "output_type": "stream",
     "text": [
      "<class 'pandas.core.frame.DataFrame'>\n",
      "RangeIndex: 52 entries, 0 to 51\n",
      "Data columns (total 7 columns):\n",
      "State            52 non-null object\n",
      "Participation    52 non-null object\n",
      "English          52 non-null float64\n",
      "Math             52 non-null float64\n",
      "Reading          52 non-null float64\n",
      "Science          52 non-null float64\n",
      "Composite        52 non-null object\n",
      "dtypes: float64(4), object(3)\n",
      "memory usage: 2.9+ KB\n"
     ]
    }
   ],
   "source": [
    "act_17.info()"
   ]
  },
  {
   "cell_type": "markdown",
   "metadata": {},
   "source": [
    "What did you learn?\n",
    "- Do any of them seem odd?  \n",
    "- Which ones are not as they should be?  "
   ]
  },
  {
   "cell_type": "markdown",
   "metadata": {},
   "source": [
    "**Answer:**\n",
    "\n",
    "- 'Participation' data type format to change to float as it is currently an object (str)\n",
    "- SAT 2017 - [Maryland's 'Math' Scores](https://magoosh.com/hs/sat/sat-scores/2018/average-sat-scores-by-state-how-does-your-state-stack-up/)\n",
    "\n",
    "- ACT 2017 - [Maryland's 'Science' Scores](https://blog.prepscholar.com/act-scores-by-state-averages-highs-and-lows)\n",
    "\n",
    "- correct the State, Wyoming ['Composite'] score -> remove the 'x' from 20.2x\n",
    "- to remove extra 'National' line item in act_2017 data could be deemed as redundant\n",
    "- to shorten 'Evidence-Based Reading and Writing' column in sat_2017 to 'ERW' instead"
   ]
  },
  {
   "cell_type": "markdown",
   "metadata": {},
   "source": [
    "#### 6. Fix Incorrect Data Types\n",
    "Based on what you discovered above, use appropriate methods to re-type incorrectly typed data.\n",
    "- Define a function that will allow you to convert participation rates to an appropriate numeric type.  \n",
    "*(Use `map` or `apply` to change these columns in each dataframe)*"
   ]
  },
  {
   "cell_type": "code",
   "execution_count": 1054,
   "metadata": {},
   "outputs": [],
   "source": [
    "# create copies of the original data set\n",
    "sat_17_clean = sat_17.copy()\n",
    "act_17_clean = act_17.copy()"
   ]
  },
  {
   "cell_type": "code",
   "execution_count": 1055,
   "metadata": {},
   "outputs": [
    {
     "data": {
      "text/plain": [
       "dtype('float64')"
      ]
     },
     "execution_count": 1055,
     "metadata": {},
     "output_type": "execute_result"
    }
   ],
   "source": [
    "# SAT 2017\n",
    "# convert ['Participation'] to type float (proportion)\n",
    "sat_17_clean.Participation = sat_17_clean.Participation.str.replace('%', '').astype(float)\n",
    "\n",
    "# confirm column in proper dtype\n",
    "sat_17_clean.Participation.dtype"
   ]
  },
  {
   "cell_type": "code",
   "execution_count": 1056,
   "metadata": {},
   "outputs": [
    {
     "data": {
      "text/plain": [
       "dtype('float64')"
      ]
     },
     "execution_count": 1056,
     "metadata": {},
     "output_type": "execute_result"
    }
   ],
   "source": [
    "# ACT 2017\n",
    "# convert ['Participation'] to type *float* (as a proportion)\n",
    "act_17_clean.Participation = act_17_clean.Participation.str.replace('%', '').astype(float)\n",
    "\n",
    "# confirm column in proper dtype\n",
    "act_17_clean.Participation.dtype"
   ]
  },
  {
   "cell_type": "markdown",
   "metadata": {},
   "source": [
    "- Fix any individual values preventing other columns from being the appropriate type."
   ]
  },
  {
   "cell_type": "code",
   "execution_count": 1057,
   "metadata": {},
   "outputs": [],
   "source": [
    "# SAT 2017 \n",
    "# correct Maryland's 'Math' Score -> 52 to 524\n",
    "sat_17_clean.loc[sat_17_clean['State'] == 'Maryland', 'Math'] = 524"
   ]
  },
  {
   "cell_type": "code",
   "execution_count": 1058,
   "metadata": {},
   "outputs": [],
   "source": [
    "# ACT 2017 \n",
    "# correct Maryland's 'Science' Score -> 2.3 to 23.2\n",
    "act_17_clean.loc[act_17_clean['State'] == 'Maryland', 'Science'] = 23.2"
   ]
  },
  {
   "cell_type": "code",
   "execution_count": 1059,
   "metadata": {},
   "outputs": [],
   "source": [
    "# ACT 2017\n",
    "# correct the State, Wyoming ['Composite'] score -> remove the 'x' from 20.2x\n",
    "# alt. method: act_17_clean.at[51, 'Composite'] = '20.2'\n",
    "act_17_clean.loc[act_17_clean['State'] == 'Wyoming', 'Composite'] = '20.2'"
   ]
  },
  {
   "cell_type": "markdown",
   "metadata": {},
   "source": [
    "- Finish your data modifications by making sure the columns are now typed appropriately."
   ]
  },
  {
   "cell_type": "code",
   "execution_count": 1060,
   "metadata": {},
   "outputs": [
    {
     "data": {
      "text/plain": [
       "dtype('float64')"
      ]
     },
     "execution_count": 1060,
     "metadata": {},
     "output_type": "execute_result"
    }
   ],
   "source": [
    "# ACT 2017\n",
    "# convert ['Composite'] to type *float*\n",
    "# check all data in column has no errors\n",
    "act_17_clean.Composite = act_17_clean.Composite.astype(float)\n",
    "act_17_clean.Composite.dtype"
   ]
  },
  {
   "cell_type": "code",
   "execution_count": 1061,
   "metadata": {},
   "outputs": [],
   "source": [
    "# check for errors\n",
    "assert act_17_clean.Composite.dtype == float"
   ]
  },
  {
   "cell_type": "code",
   "execution_count": 1062,
   "metadata": {},
   "outputs": [],
   "source": [
    "# convert Participation columns to proporiton\n",
    "sat_17_clean.Participation = sat_17_clean.Participation/100\n",
    "act_17_clean.Participation = act_17_clean.Participation/100"
   ]
  },
  {
   "cell_type": "markdown",
   "metadata": {},
   "source": [
    "- Display the data types again to confirm they are correct."
   ]
  },
  {
   "cell_type": "code",
   "execution_count": 1063,
   "metadata": {},
   "outputs": [
    {
     "data": {
      "text/plain": [
       "(dtype('float64'), dtype('float64'), dtype('float64'))"
      ]
     },
     "execution_count": 1063,
     "metadata": {},
     "output_type": "execute_result"
    }
   ],
   "source": [
    "# ensure respective columns are floats\n",
    "sat_17_clean['Participation'].dtype, act_17_clean.Composite.dtype, act_17_clean.Participation.dtype"
   ]
  },
  {
   "cell_type": "code",
   "execution_count": 1064,
   "metadata": {},
   "outputs": [
    {
     "data": {
      "text/html": [
       "<div>\n",
       "<style scoped>\n",
       "    .dataframe tbody tr th:only-of-type {\n",
       "        vertical-align: middle;\n",
       "    }\n",
       "\n",
       "    .dataframe tbody tr th {\n",
       "        vertical-align: top;\n",
       "    }\n",
       "\n",
       "    .dataframe thead th {\n",
       "        text-align: right;\n",
       "    }\n",
       "</style>\n",
       "<table border=\"1\" class=\"dataframe\">\n",
       "  <thead>\n",
       "    <tr style=\"text-align: right;\">\n",
       "      <th></th>\n",
       "      <th>State</th>\n",
       "      <th>Participation</th>\n",
       "      <th>English</th>\n",
       "      <th>Math</th>\n",
       "      <th>Reading</th>\n",
       "      <th>Science</th>\n",
       "      <th>Composite</th>\n",
       "    </tr>\n",
       "  </thead>\n",
       "  <tbody>\n",
       "    <tr>\n",
       "      <th>47</th>\n",
       "      <td>Virginia</td>\n",
       "      <td>0.29</td>\n",
       "      <td>23.5</td>\n",
       "      <td>23.3</td>\n",
       "      <td>24.6</td>\n",
       "      <td>23.5</td>\n",
       "      <td>23.8</td>\n",
       "    </tr>\n",
       "    <tr>\n",
       "      <th>48</th>\n",
       "      <td>Washington</td>\n",
       "      <td>0.29</td>\n",
       "      <td>20.9</td>\n",
       "      <td>21.9</td>\n",
       "      <td>22.1</td>\n",
       "      <td>22.0</td>\n",
       "      <td>21.9</td>\n",
       "    </tr>\n",
       "    <tr>\n",
       "      <th>49</th>\n",
       "      <td>West Virginia</td>\n",
       "      <td>0.69</td>\n",
       "      <td>20.0</td>\n",
       "      <td>19.4</td>\n",
       "      <td>21.2</td>\n",
       "      <td>20.5</td>\n",
       "      <td>20.4</td>\n",
       "    </tr>\n",
       "    <tr>\n",
       "      <th>50</th>\n",
       "      <td>Wisconsin</td>\n",
       "      <td>1.00</td>\n",
       "      <td>19.7</td>\n",
       "      <td>20.4</td>\n",
       "      <td>20.6</td>\n",
       "      <td>20.9</td>\n",
       "      <td>20.5</td>\n",
       "    </tr>\n",
       "    <tr>\n",
       "      <th>51</th>\n",
       "      <td>Wyoming</td>\n",
       "      <td>1.00</td>\n",
       "      <td>19.4</td>\n",
       "      <td>19.8</td>\n",
       "      <td>20.8</td>\n",
       "      <td>20.6</td>\n",
       "      <td>20.2</td>\n",
       "    </tr>\n",
       "  </tbody>\n",
       "</table>\n",
       "</div>"
      ],
      "text/plain": [
       "            State  Participation  English  Math  Reading  Science  Composite\n",
       "47       Virginia           0.29     23.5  23.3     24.6     23.5       23.8\n",
       "48     Washington           0.29     20.9  21.9     22.1     22.0       21.9\n",
       "49  West Virginia           0.69     20.0  19.4     21.2     20.5       20.4\n",
       "50      Wisconsin           1.00     19.7  20.4     20.6     20.9       20.5\n",
       "51        Wyoming           1.00     19.4  19.8     20.8     20.6       20.2"
      ]
     },
     "execution_count": 1064,
     "metadata": {},
     "output_type": "execute_result"
    }
   ],
   "source": [
    "# preview data to check\n",
    "act_17_clean.tail()"
   ]
  },
  {
   "cell_type": "code",
   "execution_count": 1065,
   "metadata": {},
   "outputs": [
    {
     "data": {
      "text/html": [
       "<div>\n",
       "<style scoped>\n",
       "    .dataframe tbody tr th:only-of-type {\n",
       "        vertical-align: middle;\n",
       "    }\n",
       "\n",
       "    .dataframe tbody tr th {\n",
       "        vertical-align: top;\n",
       "    }\n",
       "\n",
       "    .dataframe thead th {\n",
       "        text-align: right;\n",
       "    }\n",
       "</style>\n",
       "<table border=\"1\" class=\"dataframe\">\n",
       "  <thead>\n",
       "    <tr style=\"text-align: right;\">\n",
       "      <th></th>\n",
       "      <th>State</th>\n",
       "      <th>Participation</th>\n",
       "      <th>Evidence-Based Reading and Writing</th>\n",
       "      <th>Math</th>\n",
       "      <th>Total</th>\n",
       "    </tr>\n",
       "  </thead>\n",
       "  <tbody>\n",
       "    <tr>\n",
       "      <th>0</th>\n",
       "      <td>Alabama</td>\n",
       "      <td>0.05</td>\n",
       "      <td>593</td>\n",
       "      <td>572</td>\n",
       "      <td>1165</td>\n",
       "    </tr>\n",
       "    <tr>\n",
       "      <th>1</th>\n",
       "      <td>Alaska</td>\n",
       "      <td>0.38</td>\n",
       "      <td>547</td>\n",
       "      <td>533</td>\n",
       "      <td>1080</td>\n",
       "    </tr>\n",
       "    <tr>\n",
       "      <th>2</th>\n",
       "      <td>Arizona</td>\n",
       "      <td>0.30</td>\n",
       "      <td>563</td>\n",
       "      <td>553</td>\n",
       "      <td>1116</td>\n",
       "    </tr>\n",
       "    <tr>\n",
       "      <th>3</th>\n",
       "      <td>Arkansas</td>\n",
       "      <td>0.03</td>\n",
       "      <td>614</td>\n",
       "      <td>594</td>\n",
       "      <td>1208</td>\n",
       "    </tr>\n",
       "    <tr>\n",
       "      <th>4</th>\n",
       "      <td>California</td>\n",
       "      <td>0.53</td>\n",
       "      <td>531</td>\n",
       "      <td>524</td>\n",
       "      <td>1055</td>\n",
       "    </tr>\n",
       "  </tbody>\n",
       "</table>\n",
       "</div>"
      ],
      "text/plain": [
       "        State  Participation  Evidence-Based Reading and Writing  Math  Total\n",
       "0     Alabama           0.05                                 593   572   1165\n",
       "1      Alaska           0.38                                 547   533   1080\n",
       "2     Arizona           0.30                                 563   553   1116\n",
       "3    Arkansas           0.03                                 614   594   1208\n",
       "4  California           0.53                                 531   524   1055"
      ]
     },
     "execution_count": 1065,
     "metadata": {},
     "output_type": "execute_result"
    }
   ],
   "source": [
    "# preview data to check\n",
    "sat_17_clean.head()"
   ]
  },
  {
   "cell_type": "markdown",
   "metadata": {},
   "source": [
    "#### 7. Rename Columns\n",
    "Change the names of the columns to more expressive names so that you can tell the difference between the SAT columns and the ACT columns.  \n",
    "Your solution should map all column names being changed at once (no repeated singular name-changes).  \n",
    "**We will be combining these data with some of the data from 2018, and so you should name columns in an appropriate way**.\n",
    "\n",
    "**Guidelines**:\n",
    "- Column names should be all lowercase (you will thank yourself when you start pushing data to SQL later in the course)\n",
    "- Column names should not contain spaces (underscores will suffice--this allows for using the `df.column_name` method to access columns in addition to `df['column_name']`.\n",
    "- Column names should be unique and informative (the only feature that we actually share between dataframes is the state)."
   ]
  },
  {
   "cell_type": "code",
   "execution_count": 1066,
   "metadata": {},
   "outputs": [
    {
     "data": {
      "text/plain": [
       "(Index(['State', 'Participation', 'Evidence-Based Reading and Writing', 'Math',\n",
       "        'Total'],\n",
       "       dtype='object'),\n",
       " Index(['State', 'Participation', 'English', 'Math', 'Reading', 'Science',\n",
       "        'Composite'],\n",
       "       dtype='object'))"
      ]
     },
     "execution_count": 1066,
     "metadata": {},
     "output_type": "execute_result"
    }
   ],
   "source": [
    "# preview columns\n",
    "sat_17_clean.columns, act_17_clean.columns"
   ]
  },
  {
   "cell_type": "code",
   "execution_count": 1067,
   "metadata": {},
   "outputs": [],
   "source": [
    "# to shorten 'Evidence-Based Reading and Writing' column in sat_2017 to 'ERW' instead\n",
    "sat_17_clean.columns = ['sat_17_state', 'sat_17_participation', 'sat_17_erw', 'sat_17_math', 'sat_17_total']\n",
    "\n",
    "# differentiate between SAT and ACT columns\n",
    "act_17_clean.columns = ['act_17_state', 'act_17_participation', 'act_17_english', 'act_17_math', 'act_17_reading', 'act_17_science',\n",
    "        'act_17_composite']"
   ]
  },
  {
   "cell_type": "code",
   "execution_count": 1068,
   "metadata": {},
   "outputs": [
    {
     "data": {
      "text/plain": [
       "(Index(['sat_17_state', 'sat_17_participation', 'sat_17_erw', 'sat_17_math',\n",
       "        'sat_17_total'],\n",
       "       dtype='object'),\n",
       " Index(['act_17_state', 'act_17_participation', 'act_17_english', 'act_17_math',\n",
       "        'act_17_reading', 'act_17_science', 'act_17_composite'],\n",
       "       dtype='object'))"
      ]
     },
     "execution_count": 1068,
     "metadata": {},
     "output_type": "execute_result"
    }
   ],
   "source": [
    "# preview data columns to check\n",
    "sat_17_clean.columns, act_17_clean.columns"
   ]
  },
  {
   "cell_type": "code",
   "execution_count": 1069,
   "metadata": {},
   "outputs": [
    {
     "name": "stdout",
     "output_type": "stream",
     "text": [
      "<class 'pandas.core.frame.DataFrame'>\n",
      "RangeIndex: 51 entries, 0 to 50\n",
      "Data columns (total 5 columns):\n",
      "sat_17_state            51 non-null object\n",
      "sat_17_participation    51 non-null float64\n",
      "sat_17_erw              51 non-null int64\n",
      "sat_17_math             51 non-null int64\n",
      "sat_17_total            51 non-null int64\n",
      "dtypes: float64(1), int64(3), object(1)\n",
      "memory usage: 2.1+ KB\n"
     ]
    }
   ],
   "source": [
    "sat_17_clean.info()"
   ]
  },
  {
   "cell_type": "code",
   "execution_count": 1070,
   "metadata": {},
   "outputs": [
    {
     "data": {
      "text/plain": [
       "0    0.05\n",
       "1    0.38\n",
       "2    0.30\n",
       "3    0.03\n",
       "4    0.53\n",
       "Name: sat_17_participation, dtype: float64"
      ]
     },
     "execution_count": 1070,
     "metadata": {},
     "output_type": "execute_result"
    }
   ],
   "source": [
    "sat_17_clean.sat_17_participation.head()"
   ]
  },
  {
   "cell_type": "markdown",
   "metadata": {},
   "source": [
    "#### 8. Create a data dictionary\n",
    "\n",
    "Now that we've fixed our data, and given it appropriate names, let's create a [data dictionary](http://library.ucmerced.edu/node/10249). \n",
    "\n",
    "A data dictionary provides a quick overview of features/variables/columns, alongside data types and descriptions. The more descriptive you can be, the more useful this document is.\n",
    "\n",
    "Example of a Fictional Data Dictionary Entry: \n",
    "\n",
    "|Feature|Type|Dataset|Description|\n",
    "|---|---|---|---|\n",
    "|**county_pop**|*integer*|2010 census|The population of the county (units in thousands, where 2.5 represents 2500 people).| \n",
    "|**per_poverty**|*float*|2010 census|The percent of the county over the age of 18 living below the 200% of official US poverty rate (units percent to two decimal places 98.10 means 98.1%)|\n",
    "\n",
    "[Here's a quick link to a short guide for formatting markdown in Jupyter notebooks](https://jupyter-notebook.readthedocs.io/en/stable/examples/Notebook/Working%20With%20Markdown%20Cells.html).\n",
    "\n",
    "Provided is the skeleton for formatting a markdown table, with columns headers that will help you create a data dictionary to quickly summarize your data, as well as some examples. **This would be a great thing to copy and paste into your custom README for this project.**"
   ]
  },
  {
   "cell_type": "markdown",
   "metadata": {},
   "source": [
    "|Feature|Type|Dataset|Description|\n",
    "|---|---|---|---|\n",
    "|*Column Name*|*int/float/object*|*ACT/SAT*|*Description of each column*| \n",
    "|sat_17_state|*object*|SAT|The name of each of the 51 states in USA|\n",
    "|sat_17_participation|*float*|SAT|The proportion of students tested *(0.5 represents 50% of students in state)*|\n",
    "|sat_17_erw|*int*|SAT|Avg. SAT Subtest (Evidence-Based Reading and Writing) score for each state *(max. of 800 and min. of 200)*|\n",
    "|sat_17_math|*int*|SAT|Avg. SAT Subtest (Math) score for each state *(max. of 800 and min. of 200)*|\n",
    "|sat_17_total|*int*|SAT|Avg. Total SAT Test score for each state *(max. of 1600 and min. of 400)*|\n",
    "|act_17_state|*object*|ACT|The name of each of the 51 states in USA|\n",
    "|act_17_participation|*float*|ACT|The proportion of students tested *(0.5 represents 50% of students in state)*|\n",
    "|act_17_english|*float*|ACT|Avg. ACT English score for each state *(max. of 36 and min. of 1)* |\n",
    "|act_17_math|*float*|ACT|Avg. ACT Math score for each state *(max. of 36 and min. of 1)*|\n",
    "|act_17_reading|*float*|ACT|Avg. ACT Reading score for each state *(max. of 36 and min. of 1)*|\n",
    "|act_17_science|*float*|ACT|Avg. ACT Science score for each state *(max. of 36 and min. of 1)*|\n",
    "|act_17composite|*float*|ACT|Avg. ACT Composite score max. for each state *(max. of 36 and min. of 1)*|\n",
    "\n"
   ]
  },
  {
   "cell_type": "markdown",
   "metadata": {},
   "source": [
    "#### 9. Drop unnecessary rows\n",
    "\n",
    "One of our dataframes contains an extra row. Identify and remove this from the dataframe."
   ]
  },
  {
   "cell_type": "code",
   "execution_count": 1071,
   "metadata": {},
   "outputs": [],
   "source": [
    "# get rid of the 'National' row in ACT_2017, we can always aggregate the 51 states\n",
    "act_17_clean.drop([0], inplace=True)\n",
    "# reset indexes\n",
    "act_17_clean.reset_index(drop=True, inplace=True)"
   ]
  },
  {
   "cell_type": "code",
   "execution_count": 1072,
   "metadata": {},
   "outputs": [
    {
     "data": {
      "text/html": [
       "<div>\n",
       "<style scoped>\n",
       "    .dataframe tbody tr th:only-of-type {\n",
       "        vertical-align: middle;\n",
       "    }\n",
       "\n",
       "    .dataframe tbody tr th {\n",
       "        vertical-align: top;\n",
       "    }\n",
       "\n",
       "    .dataframe thead th {\n",
       "        text-align: right;\n",
       "    }\n",
       "</style>\n",
       "<table border=\"1\" class=\"dataframe\">\n",
       "  <thead>\n",
       "    <tr style=\"text-align: right;\">\n",
       "      <th></th>\n",
       "      <th>act_17_state</th>\n",
       "      <th>act_17_participation</th>\n",
       "      <th>act_17_english</th>\n",
       "      <th>act_17_math</th>\n",
       "      <th>act_17_reading</th>\n",
       "      <th>act_17_science</th>\n",
       "      <th>act_17_composite</th>\n",
       "    </tr>\n",
       "  </thead>\n",
       "  <tbody>\n",
       "    <tr>\n",
       "      <th>0</th>\n",
       "      <td>Alabama</td>\n",
       "      <td>1.00</td>\n",
       "      <td>18.9</td>\n",
       "      <td>18.4</td>\n",
       "      <td>19.7</td>\n",
       "      <td>19.4</td>\n",
       "      <td>19.2</td>\n",
       "    </tr>\n",
       "    <tr>\n",
       "      <th>1</th>\n",
       "      <td>Alaska</td>\n",
       "      <td>0.65</td>\n",
       "      <td>18.7</td>\n",
       "      <td>19.8</td>\n",
       "      <td>20.4</td>\n",
       "      <td>19.9</td>\n",
       "      <td>19.8</td>\n",
       "    </tr>\n",
       "    <tr>\n",
       "      <th>2</th>\n",
       "      <td>Arizona</td>\n",
       "      <td>0.62</td>\n",
       "      <td>18.6</td>\n",
       "      <td>19.8</td>\n",
       "      <td>20.1</td>\n",
       "      <td>19.8</td>\n",
       "      <td>19.7</td>\n",
       "    </tr>\n",
       "  </tbody>\n",
       "</table>\n",
       "</div>"
      ],
      "text/plain": [
       "  act_17_state  act_17_participation  act_17_english  act_17_math  \\\n",
       "0      Alabama                  1.00            18.9         18.4   \n",
       "1       Alaska                  0.65            18.7         19.8   \n",
       "2      Arizona                  0.62            18.6         19.8   \n",
       "\n",
       "   act_17_reading  act_17_science  act_17_composite  \n",
       "0            19.7            19.4              19.2  \n",
       "1            20.4            19.9              19.8  \n",
       "2            20.1            19.8              19.7  "
      ]
     },
     "execution_count": 1072,
     "metadata": {},
     "output_type": "execute_result"
    }
   ],
   "source": [
    "# check\n",
    "act_17_clean.head(3)"
   ]
  },
  {
   "cell_type": "markdown",
   "metadata": {},
   "source": [
    "#### 10. Merge Dataframes\n",
    "\n",
    "Join the 2017 ACT and SAT dataframes using the state in each dataframe as the key. Assign this to a new variable."
   ]
  },
  {
   "cell_type": "code",
   "execution_count": 1073,
   "metadata": {},
   "outputs": [],
   "source": [
    "# merge sat_17_clean and act_17_clean DataFrames on their State columns\n",
    "combined_17 = pd.merge(sat_17_clean, act_17_clean, left_on='sat_17_state', right_on='act_17_state', how='outer')"
   ]
  },
  {
   "cell_type": "code",
   "execution_count": 1074,
   "metadata": {},
   "outputs": [
    {
     "data": {
      "text/html": [
       "<div>\n",
       "<style scoped>\n",
       "    .dataframe tbody tr th:only-of-type {\n",
       "        vertical-align: middle;\n",
       "    }\n",
       "\n",
       "    .dataframe tbody tr th {\n",
       "        vertical-align: top;\n",
       "    }\n",
       "\n",
       "    .dataframe thead th {\n",
       "        text-align: right;\n",
       "    }\n",
       "</style>\n",
       "<table border=\"1\" class=\"dataframe\">\n",
       "  <thead>\n",
       "    <tr style=\"text-align: right;\">\n",
       "      <th></th>\n",
       "      <th>state</th>\n",
       "      <th>sat_17_participation</th>\n",
       "      <th>sat_17_erw</th>\n",
       "      <th>sat_17_math</th>\n",
       "      <th>sat_17_total</th>\n",
       "      <th>act_17_participation</th>\n",
       "      <th>act_17_english</th>\n",
       "      <th>act_17_math</th>\n",
       "      <th>act_17_reading</th>\n",
       "      <th>act_17_science</th>\n",
       "      <th>act_17_composite</th>\n",
       "    </tr>\n",
       "  </thead>\n",
       "  <tbody>\n",
       "    <tr>\n",
       "      <th>0</th>\n",
       "      <td>Alabama</td>\n",
       "      <td>0.05</td>\n",
       "      <td>593</td>\n",
       "      <td>572</td>\n",
       "      <td>1165</td>\n",
       "      <td>1.00</td>\n",
       "      <td>18.9</td>\n",
       "      <td>18.4</td>\n",
       "      <td>19.7</td>\n",
       "      <td>19.4</td>\n",
       "      <td>19.2</td>\n",
       "    </tr>\n",
       "    <tr>\n",
       "      <th>1</th>\n",
       "      <td>Alaska</td>\n",
       "      <td>0.38</td>\n",
       "      <td>547</td>\n",
       "      <td>533</td>\n",
       "      <td>1080</td>\n",
       "      <td>0.65</td>\n",
       "      <td>18.7</td>\n",
       "      <td>19.8</td>\n",
       "      <td>20.4</td>\n",
       "      <td>19.9</td>\n",
       "      <td>19.8</td>\n",
       "    </tr>\n",
       "    <tr>\n",
       "      <th>2</th>\n",
       "      <td>Arizona</td>\n",
       "      <td>0.30</td>\n",
       "      <td>563</td>\n",
       "      <td>553</td>\n",
       "      <td>1116</td>\n",
       "      <td>0.62</td>\n",
       "      <td>18.6</td>\n",
       "      <td>19.8</td>\n",
       "      <td>20.1</td>\n",
       "      <td>19.8</td>\n",
       "      <td>19.7</td>\n",
       "    </tr>\n",
       "    <tr>\n",
       "      <th>3</th>\n",
       "      <td>Arkansas</td>\n",
       "      <td>0.03</td>\n",
       "      <td>614</td>\n",
       "      <td>594</td>\n",
       "      <td>1208</td>\n",
       "      <td>1.00</td>\n",
       "      <td>18.9</td>\n",
       "      <td>19.0</td>\n",
       "      <td>19.7</td>\n",
       "      <td>19.5</td>\n",
       "      <td>19.4</td>\n",
       "    </tr>\n",
       "    <tr>\n",
       "      <th>4</th>\n",
       "      <td>California</td>\n",
       "      <td>0.53</td>\n",
       "      <td>531</td>\n",
       "      <td>524</td>\n",
       "      <td>1055</td>\n",
       "      <td>0.31</td>\n",
       "      <td>22.5</td>\n",
       "      <td>22.7</td>\n",
       "      <td>23.1</td>\n",
       "      <td>22.2</td>\n",
       "      <td>22.8</td>\n",
       "    </tr>\n",
       "  </tbody>\n",
       "</table>\n",
       "</div>"
      ],
      "text/plain": [
       "        state  sat_17_participation  sat_17_erw  sat_17_math  sat_17_total  \\\n",
       "0     Alabama                  0.05         593          572          1165   \n",
       "1      Alaska                  0.38         547          533          1080   \n",
       "2     Arizona                  0.30         563          553          1116   \n",
       "3    Arkansas                  0.03         614          594          1208   \n",
       "4  California                  0.53         531          524          1055   \n",
       "\n",
       "   act_17_participation  act_17_english  act_17_math  act_17_reading  \\\n",
       "0                  1.00            18.9         18.4            19.7   \n",
       "1                  0.65            18.7         19.8            20.4   \n",
       "2                  0.62            18.6         19.8            20.1   \n",
       "3                  1.00            18.9         19.0            19.7   \n",
       "4                  0.31            22.5         22.7            23.1   \n",
       "\n",
       "   act_17_science  act_17_composite  \n",
       "0            19.4              19.2  \n",
       "1            19.9              19.8  \n",
       "2            19.8              19.7  \n",
       "3            19.5              19.4  \n",
       "4            22.2              22.8  "
      ]
     },
     "execution_count": 1074,
     "metadata": {},
     "output_type": "execute_result"
    }
   ],
   "source": [
    "# rename 'sat_17_state' to 'state'\n",
    "combined_17.rename(columns={'sat_17_state' : 'state'}, inplace=True)\n",
    "# drop duplicated state name from ACT dataset\n",
    "combined_17.drop(columns=['act_17_state'],inplace=True)\n",
    "combined_17.head()"
   ]
  },
  {
   "cell_type": "markdown",
   "metadata": {},
   "source": [
    "#### 11. Save your cleaned, merged dataframe\n",
    "\n",
    "Use a relative path to save out your data as `combined_2017.csv`."
   ]
  },
  {
   "cell_type": "code",
   "execution_count": 1075,
   "metadata": {},
   "outputs": [],
   "source": [
    "combined_17.to_csv('../data/combined_2017.csv')"
   ]
  },
  {
   "cell_type": "markdown",
   "metadata": {},
   "source": [
    "## 2018 Data Import and Cleaning"
   ]
  },
  {
   "cell_type": "markdown",
   "metadata": {},
   "source": [
    "Links to the 2018 ACT and SAT data are provided in the README. These data live in PDFs, and so you'll get to enjoy practicing some *manual* data collection. Save these data as a CSV in your `data` directory, and import, explore, and clean these data in the same way you did above.   \n",
    "**Make sure you comment on your steps so it is clear *why* you are doing each process**."
   ]
  },
  {
   "cell_type": "code",
   "execution_count": 1076,
   "metadata": {},
   "outputs": [],
   "source": [
    "# will have to manually create new columns for the missing data for act_2018.csv \n",
    "# there is also a duplicate row, Maine in act_2018.csv "
   ]
  },
  {
   "cell_type": "markdown",
   "metadata": {},
   "source": [
    "#### *References*  -\n",
    "**a) Magoosh:**   \n",
    "[1st ACT 2018 Dataset](https://magoosh.com/hs/act/2016/average-act-score-by-state/)  \n",
    "**b) ACT:**  \n",
    "[2nd ACT 2018 Datset](https://www.act.org/content/dam/act/unsecured/documents/cccr2018/Average-Scores-by-State.pdf)\n",
    "\n",
    "Manually collected data from the above links, and saved the data into *'act_2018_edited.csv'* of this project folder"
   ]
  },
  {
   "cell_type": "markdown",
   "metadata": {},
   "source": [
    "#### Import 2018 Data"
   ]
  },
  {
   "cell_type": "code",
   "execution_count": 1077,
   "metadata": {},
   "outputs": [],
   "source": [
    "sat_18 = pd.read_csv('../data/sat_2018.csv')\n",
    "act_18 = pd.read_csv('../data/act_2018_edited.csv')"
   ]
  },
  {
   "cell_type": "code",
   "execution_count": 1078,
   "metadata": {},
   "outputs": [],
   "source": [
    "# create copies of the original data set\n",
    "sat_18_clean = sat_18.copy()\n",
    "act_18_clean = act_18.copy()"
   ]
  },
  {
   "cell_type": "code",
   "execution_count": 1079,
   "metadata": {},
   "outputs": [
    {
     "data": {
      "text/html": [
       "<div>\n",
       "<style scoped>\n",
       "    .dataframe tbody tr th:only-of-type {\n",
       "        vertical-align: middle;\n",
       "    }\n",
       "\n",
       "    .dataframe tbody tr th {\n",
       "        vertical-align: top;\n",
       "    }\n",
       "\n",
       "    .dataframe thead th {\n",
       "        text-align: right;\n",
       "    }\n",
       "</style>\n",
       "<table border=\"1\" class=\"dataframe\">\n",
       "  <thead>\n",
       "    <tr style=\"text-align: right;\">\n",
       "      <th></th>\n",
       "      <th>State</th>\n",
       "      <th>Participation</th>\n",
       "      <th>Evidence-Based Reading and Writing</th>\n",
       "      <th>Math</th>\n",
       "      <th>Total</th>\n",
       "    </tr>\n",
       "  </thead>\n",
       "  <tbody>\n",
       "    <tr>\n",
       "      <th>0</th>\n",
       "      <td>Alabama</td>\n",
       "      <td>6%</td>\n",
       "      <td>595</td>\n",
       "      <td>571</td>\n",
       "      <td>1166</td>\n",
       "    </tr>\n",
       "    <tr>\n",
       "      <th>1</th>\n",
       "      <td>Alaska</td>\n",
       "      <td>43%</td>\n",
       "      <td>562</td>\n",
       "      <td>544</td>\n",
       "      <td>1106</td>\n",
       "    </tr>\n",
       "    <tr>\n",
       "      <th>2</th>\n",
       "      <td>Arizona</td>\n",
       "      <td>29%</td>\n",
       "      <td>577</td>\n",
       "      <td>572</td>\n",
       "      <td>1149</td>\n",
       "    </tr>\n",
       "    <tr>\n",
       "      <th>3</th>\n",
       "      <td>Arkansas</td>\n",
       "      <td>5%</td>\n",
       "      <td>592</td>\n",
       "      <td>576</td>\n",
       "      <td>1169</td>\n",
       "    </tr>\n",
       "    <tr>\n",
       "      <th>4</th>\n",
       "      <td>California</td>\n",
       "      <td>60%</td>\n",
       "      <td>540</td>\n",
       "      <td>536</td>\n",
       "      <td>1076</td>\n",
       "    </tr>\n",
       "  </tbody>\n",
       "</table>\n",
       "</div>"
      ],
      "text/plain": [
       "        State Participation  Evidence-Based Reading and Writing  Math  Total\n",
       "0     Alabama            6%                                 595   571   1166\n",
       "1      Alaska           43%                                 562   544   1106\n",
       "2     Arizona           29%                                 577   572   1149\n",
       "3    Arkansas            5%                                 592   576   1169\n",
       "4  California           60%                                 540   536   1076"
      ]
     },
     "execution_count": 1079,
     "metadata": {},
     "output_type": "execute_result"
    }
   ],
   "source": [
    "# check\n",
    "sat_18_clean.head()"
   ]
  },
  {
   "cell_type": "code",
   "execution_count": 1080,
   "metadata": {},
   "outputs": [
    {
     "data": {
      "text/html": [
       "<div>\n",
       "<style scoped>\n",
       "    .dataframe tbody tr th:only-of-type {\n",
       "        vertical-align: middle;\n",
       "    }\n",
       "\n",
       "    .dataframe tbody tr th {\n",
       "        vertical-align: top;\n",
       "    }\n",
       "\n",
       "    .dataframe thead th {\n",
       "        text-align: right;\n",
       "    }\n",
       "</style>\n",
       "<table border=\"1\" class=\"dataframe\">\n",
       "  <thead>\n",
       "    <tr style=\"text-align: right;\">\n",
       "      <th></th>\n",
       "      <th>State</th>\n",
       "      <th>Participation</th>\n",
       "      <th>English</th>\n",
       "      <th>Math</th>\n",
       "      <th>Reading</th>\n",
       "      <th>Science</th>\n",
       "      <th>Composite</th>\n",
       "    </tr>\n",
       "  </thead>\n",
       "  <tbody>\n",
       "    <tr>\n",
       "      <th>0</th>\n",
       "      <td>Alabama</td>\n",
       "      <td>1.00</td>\n",
       "      <td>18.9</td>\n",
       "      <td>18.3</td>\n",
       "      <td>19.6</td>\n",
       "      <td>19.0</td>\n",
       "      <td>19.1</td>\n",
       "    </tr>\n",
       "    <tr>\n",
       "      <th>1</th>\n",
       "      <td>Alaska</td>\n",
       "      <td>0.33</td>\n",
       "      <td>19.8</td>\n",
       "      <td>20.6</td>\n",
       "      <td>21.6</td>\n",
       "      <td>20.7</td>\n",
       "      <td>20.8</td>\n",
       "    </tr>\n",
       "    <tr>\n",
       "      <th>2</th>\n",
       "      <td>Arizona</td>\n",
       "      <td>0.66</td>\n",
       "      <td>18.2</td>\n",
       "      <td>19.4</td>\n",
       "      <td>19.5</td>\n",
       "      <td>19.2</td>\n",
       "      <td>19.2</td>\n",
       "    </tr>\n",
       "    <tr>\n",
       "      <th>3</th>\n",
       "      <td>Arkansas</td>\n",
       "      <td>1.00</td>\n",
       "      <td>19.1</td>\n",
       "      <td>18.9</td>\n",
       "      <td>19.7</td>\n",
       "      <td>19.4</td>\n",
       "      <td>19.4</td>\n",
       "    </tr>\n",
       "    <tr>\n",
       "      <th>4</th>\n",
       "      <td>California</td>\n",
       "      <td>0.27</td>\n",
       "      <td>22.5</td>\n",
       "      <td>22.5</td>\n",
       "      <td>23.0</td>\n",
       "      <td>22.1</td>\n",
       "      <td>22.7</td>\n",
       "    </tr>\n",
       "  </tbody>\n",
       "</table>\n",
       "</div>"
      ],
      "text/plain": [
       "        State  Participation  English  Math  Reading  Science  Composite\n",
       "0     Alabama           1.00     18.9  18.3     19.6     19.0       19.1\n",
       "1      Alaska           0.33     19.8  20.6     21.6     20.7       20.8\n",
       "2     Arizona           0.66     18.2  19.4     19.5     19.2       19.2\n",
       "3    Arkansas           1.00     19.1  18.9     19.7     19.4       19.4\n",
       "4  California           0.27     22.5  22.5     23.0     22.1       22.7"
      ]
     },
     "execution_count": 1080,
     "metadata": {},
     "output_type": "execute_result"
    }
   ],
   "source": [
    "act_18_clean.head()"
   ]
  },
  {
   "cell_type": "markdown",
   "metadata": {},
   "source": [
    "#### Fix Incorrect Data Types for 2018"
   ]
  },
  {
   "cell_type": "code",
   "execution_count": 1081,
   "metadata": {},
   "outputs": [
    {
     "name": "stdout",
     "output_type": "stream",
     "text": [
      "<class 'pandas.core.frame.DataFrame'>\n",
      "RangeIndex: 51 entries, 0 to 50\n",
      "Data columns (total 5 columns):\n",
      "State                                 51 non-null object\n",
      "Participation                         51 non-null object\n",
      "Evidence-Based Reading and Writing    51 non-null int64\n",
      "Math                                  51 non-null int64\n",
      "Total                                 51 non-null int64\n",
      "dtypes: int64(3), object(2)\n",
      "memory usage: 2.1+ KB\n"
     ]
    }
   ],
   "source": [
    "# preview datatypes and row index\n",
    "sat_18_clean.info()"
   ]
  },
  {
   "cell_type": "code",
   "execution_count": 1082,
   "metadata": {},
   "outputs": [],
   "source": [
    "# remove '%' from str and change dtype to float\n",
    "sat_18_clean['Participation'] = sat_18_clean.Participation.str.replace('%','').astype(float)\n",
    "# convert Participation column to proportion \n",
    "sat_18_clean['Participation']  = sat_18_clean.Participation / 100"
   ]
  },
  {
   "cell_type": "code",
   "execution_count": 1083,
   "metadata": {
    "scrolled": true
   },
   "outputs": [
    {
     "data": {
      "text/html": [
       "<div>\n",
       "<style scoped>\n",
       "    .dataframe tbody tr th:only-of-type {\n",
       "        vertical-align: middle;\n",
       "    }\n",
       "\n",
       "    .dataframe tbody tr th {\n",
       "        vertical-align: top;\n",
       "    }\n",
       "\n",
       "    .dataframe thead th {\n",
       "        text-align: right;\n",
       "    }\n",
       "</style>\n",
       "<table border=\"1\" class=\"dataframe\">\n",
       "  <thead>\n",
       "    <tr style=\"text-align: right;\">\n",
       "      <th></th>\n",
       "      <th>State</th>\n",
       "      <th>Participation</th>\n",
       "      <th>Evidence-Based Reading and Writing</th>\n",
       "      <th>Math</th>\n",
       "      <th>Total</th>\n",
       "    </tr>\n",
       "  </thead>\n",
       "  <tbody>\n",
       "    <tr>\n",
       "      <th>0</th>\n",
       "      <td>Alabama</td>\n",
       "      <td>0.06</td>\n",
       "      <td>595</td>\n",
       "      <td>571</td>\n",
       "      <td>1166</td>\n",
       "    </tr>\n",
       "    <tr>\n",
       "      <th>1</th>\n",
       "      <td>Alaska</td>\n",
       "      <td>0.43</td>\n",
       "      <td>562</td>\n",
       "      <td>544</td>\n",
       "      <td>1106</td>\n",
       "    </tr>\n",
       "    <tr>\n",
       "      <th>2</th>\n",
       "      <td>Arizona</td>\n",
       "      <td>0.29</td>\n",
       "      <td>577</td>\n",
       "      <td>572</td>\n",
       "      <td>1149</td>\n",
       "    </tr>\n",
       "    <tr>\n",
       "      <th>3</th>\n",
       "      <td>Arkansas</td>\n",
       "      <td>0.05</td>\n",
       "      <td>592</td>\n",
       "      <td>576</td>\n",
       "      <td>1169</td>\n",
       "    </tr>\n",
       "    <tr>\n",
       "      <th>4</th>\n",
       "      <td>California</td>\n",
       "      <td>0.60</td>\n",
       "      <td>540</td>\n",
       "      <td>536</td>\n",
       "      <td>1076</td>\n",
       "    </tr>\n",
       "  </tbody>\n",
       "</table>\n",
       "</div>"
      ],
      "text/plain": [
       "        State  Participation  Evidence-Based Reading and Writing  Math  Total\n",
       "0     Alabama           0.06                                 595   571   1166\n",
       "1      Alaska           0.43                                 562   544   1106\n",
       "2     Arizona           0.29                                 577   572   1149\n",
       "3    Arkansas           0.05                                 592   576   1169\n",
       "4  California           0.60                                 540   536   1076"
      ]
     },
     "execution_count": 1083,
     "metadata": {},
     "output_type": "execute_result"
    }
   ],
   "source": [
    "# check\n",
    "sat_18_clean.head()"
   ]
  },
  {
   "cell_type": "code",
   "execution_count": 1084,
   "metadata": {},
   "outputs": [
    {
     "name": "stdout",
     "output_type": "stream",
     "text": [
      "<class 'pandas.core.frame.DataFrame'>\n",
      "RangeIndex: 51 entries, 0 to 50\n",
      "Data columns (total 7 columns):\n",
      "State            51 non-null object\n",
      "Participation    51 non-null float64\n",
      "English          51 non-null float64\n",
      "Math             51 non-null float64\n",
      "Reading          51 non-null float64\n",
      "Science          51 non-null float64\n",
      "Composite        51 non-null float64\n",
      "dtypes: float64(6), object(1)\n",
      "memory usage: 2.9+ KB\n"
     ]
    }
   ],
   "source": [
    "# preview datatypes and row index\n",
    "act_18_clean.info()"
   ]
  },
  {
   "cell_type": "markdown",
   "metadata": {},
   "source": [
    "#### Rename 2018 columns"
   ]
  },
  {
   "cell_type": "code",
   "execution_count": 1085,
   "metadata": {},
   "outputs": [],
   "source": [
    "# to shorten 'Evidence-Based Reading and Writing' column in sat_2017 to 'ERW' instead\n",
    "sat_18_clean.columns = ['sat_18_state', 'sat_18_participation', 'sat_18_erw', 'sat_18_math', 'sat_18_total']\n",
    "\n",
    "# differentiate between SAT and ACT columns\n",
    "act_18_clean.columns = ['act_18_state', 'act_18_participation', 'act_18_english', 'act_18_math', 'act_18_reading', 'act_18_science',\n",
    "        'act_18_composite']"
   ]
  },
  {
   "cell_type": "code",
   "execution_count": 1086,
   "metadata": {},
   "outputs": [
    {
     "data": {
      "text/html": [
       "<div>\n",
       "<style scoped>\n",
       "    .dataframe tbody tr th:only-of-type {\n",
       "        vertical-align: middle;\n",
       "    }\n",
       "\n",
       "    .dataframe tbody tr th {\n",
       "        vertical-align: top;\n",
       "    }\n",
       "\n",
       "    .dataframe thead th {\n",
       "        text-align: right;\n",
       "    }\n",
       "</style>\n",
       "<table border=\"1\" class=\"dataframe\">\n",
       "  <thead>\n",
       "    <tr style=\"text-align: right;\">\n",
       "      <th></th>\n",
       "      <th>sat_18_state</th>\n",
       "      <th>sat_18_participation</th>\n",
       "      <th>sat_18_erw</th>\n",
       "      <th>sat_18_math</th>\n",
       "      <th>sat_18_total</th>\n",
       "    </tr>\n",
       "  </thead>\n",
       "  <tbody>\n",
       "    <tr>\n",
       "      <th>0</th>\n",
       "      <td>Alabama</td>\n",
       "      <td>0.06</td>\n",
       "      <td>595</td>\n",
       "      <td>571</td>\n",
       "      <td>1166</td>\n",
       "    </tr>\n",
       "    <tr>\n",
       "      <th>1</th>\n",
       "      <td>Alaska</td>\n",
       "      <td>0.43</td>\n",
       "      <td>562</td>\n",
       "      <td>544</td>\n",
       "      <td>1106</td>\n",
       "    </tr>\n",
       "    <tr>\n",
       "      <th>2</th>\n",
       "      <td>Arizona</td>\n",
       "      <td>0.29</td>\n",
       "      <td>577</td>\n",
       "      <td>572</td>\n",
       "      <td>1149</td>\n",
       "    </tr>\n",
       "    <tr>\n",
       "      <th>3</th>\n",
       "      <td>Arkansas</td>\n",
       "      <td>0.05</td>\n",
       "      <td>592</td>\n",
       "      <td>576</td>\n",
       "      <td>1169</td>\n",
       "    </tr>\n",
       "    <tr>\n",
       "      <th>4</th>\n",
       "      <td>California</td>\n",
       "      <td>0.60</td>\n",
       "      <td>540</td>\n",
       "      <td>536</td>\n",
       "      <td>1076</td>\n",
       "    </tr>\n",
       "  </tbody>\n",
       "</table>\n",
       "</div>"
      ],
      "text/plain": [
       "  sat_18_state  sat_18_participation  sat_18_erw  sat_18_math  sat_18_total\n",
       "0      Alabama                  0.06         595          571          1166\n",
       "1       Alaska                  0.43         562          544          1106\n",
       "2      Arizona                  0.29         577          572          1149\n",
       "3     Arkansas                  0.05         592          576          1169\n",
       "4   California                  0.60         540          536          1076"
      ]
     },
     "execution_count": 1086,
     "metadata": {},
     "output_type": "execute_result"
    }
   ],
   "source": [
    "# check\n",
    "sat_18_clean.head()"
   ]
  },
  {
   "cell_type": "code",
   "execution_count": 1087,
   "metadata": {},
   "outputs": [
    {
     "data": {
      "text/html": [
       "<div>\n",
       "<style scoped>\n",
       "    .dataframe tbody tr th:only-of-type {\n",
       "        vertical-align: middle;\n",
       "    }\n",
       "\n",
       "    .dataframe tbody tr th {\n",
       "        vertical-align: top;\n",
       "    }\n",
       "\n",
       "    .dataframe thead th {\n",
       "        text-align: right;\n",
       "    }\n",
       "</style>\n",
       "<table border=\"1\" class=\"dataframe\">\n",
       "  <thead>\n",
       "    <tr style=\"text-align: right;\">\n",
       "      <th></th>\n",
       "      <th>act_18_state</th>\n",
       "      <th>act_18_participation</th>\n",
       "      <th>act_18_english</th>\n",
       "      <th>act_18_math</th>\n",
       "      <th>act_18_reading</th>\n",
       "      <th>act_18_science</th>\n",
       "      <th>act_18_composite</th>\n",
       "    </tr>\n",
       "  </thead>\n",
       "  <tbody>\n",
       "    <tr>\n",
       "      <th>0</th>\n",
       "      <td>Alabama</td>\n",
       "      <td>1.00</td>\n",
       "      <td>18.9</td>\n",
       "      <td>18.3</td>\n",
       "      <td>19.6</td>\n",
       "      <td>19.0</td>\n",
       "      <td>19.1</td>\n",
       "    </tr>\n",
       "    <tr>\n",
       "      <th>1</th>\n",
       "      <td>Alaska</td>\n",
       "      <td>0.33</td>\n",
       "      <td>19.8</td>\n",
       "      <td>20.6</td>\n",
       "      <td>21.6</td>\n",
       "      <td>20.7</td>\n",
       "      <td>20.8</td>\n",
       "    </tr>\n",
       "    <tr>\n",
       "      <th>2</th>\n",
       "      <td>Arizona</td>\n",
       "      <td>0.66</td>\n",
       "      <td>18.2</td>\n",
       "      <td>19.4</td>\n",
       "      <td>19.5</td>\n",
       "      <td>19.2</td>\n",
       "      <td>19.2</td>\n",
       "    </tr>\n",
       "    <tr>\n",
       "      <th>3</th>\n",
       "      <td>Arkansas</td>\n",
       "      <td>1.00</td>\n",
       "      <td>19.1</td>\n",
       "      <td>18.9</td>\n",
       "      <td>19.7</td>\n",
       "      <td>19.4</td>\n",
       "      <td>19.4</td>\n",
       "    </tr>\n",
       "    <tr>\n",
       "      <th>4</th>\n",
       "      <td>California</td>\n",
       "      <td>0.27</td>\n",
       "      <td>22.5</td>\n",
       "      <td>22.5</td>\n",
       "      <td>23.0</td>\n",
       "      <td>22.1</td>\n",
       "      <td>22.7</td>\n",
       "    </tr>\n",
       "  </tbody>\n",
       "</table>\n",
       "</div>"
      ],
      "text/plain": [
       "  act_18_state  act_18_participation  act_18_english  act_18_math  \\\n",
       "0      Alabama                  1.00            18.9         18.3   \n",
       "1       Alaska                  0.33            19.8         20.6   \n",
       "2      Arizona                  0.66            18.2         19.4   \n",
       "3     Arkansas                  1.00            19.1         18.9   \n",
       "4   California                  0.27            22.5         22.5   \n",
       "\n",
       "   act_18_reading  act_18_science  act_18_composite  \n",
       "0            19.6            19.0              19.1  \n",
       "1            21.6            20.7              20.8  \n",
       "2            19.5            19.2              19.2  \n",
       "3            19.7            19.4              19.4  \n",
       "4            23.0            22.1              22.7  "
      ]
     },
     "execution_count": 1087,
     "metadata": {},
     "output_type": "execute_result"
    }
   ],
   "source": [
    "act_18_clean.head()"
   ]
  },
  {
   "cell_type": "code",
   "execution_count": 1088,
   "metadata": {},
   "outputs": [],
   "source": [
    "# merge sat_18_clean and act_18_clean DataFrames on their State columns\n",
    "combined_18 = pd.merge(sat_18_clean, act_18_clean, left_on='sat_18_state', right_on='act_18_state', how='outer')"
   ]
  },
  {
   "cell_type": "code",
   "execution_count": 1089,
   "metadata": {},
   "outputs": [],
   "source": [
    "# rename 'sat_18_state' to 'state'\n",
    "combined_18.rename(columns={'sat_18_state' : 'state'}, inplace=True)\n",
    "\n",
    "# drop duplicated state name from ACT dataset\n",
    "combined_18.drop(columns=['act_18_state'],inplace=True)"
   ]
  },
  {
   "cell_type": "code",
   "execution_count": 1090,
   "metadata": {},
   "outputs": [
    {
     "data": {
      "text/html": [
       "<div>\n",
       "<style scoped>\n",
       "    .dataframe tbody tr th:only-of-type {\n",
       "        vertical-align: middle;\n",
       "    }\n",
       "\n",
       "    .dataframe tbody tr th {\n",
       "        vertical-align: top;\n",
       "    }\n",
       "\n",
       "    .dataframe thead th {\n",
       "        text-align: right;\n",
       "    }\n",
       "</style>\n",
       "<table border=\"1\" class=\"dataframe\">\n",
       "  <thead>\n",
       "    <tr style=\"text-align: right;\">\n",
       "      <th></th>\n",
       "      <th>state</th>\n",
       "      <th>sat_18_participation</th>\n",
       "      <th>sat_18_erw</th>\n",
       "      <th>sat_18_math</th>\n",
       "      <th>sat_18_total</th>\n",
       "      <th>act_18_participation</th>\n",
       "      <th>act_18_english</th>\n",
       "      <th>act_18_math</th>\n",
       "      <th>act_18_reading</th>\n",
       "      <th>act_18_science</th>\n",
       "      <th>act_18_composite</th>\n",
       "    </tr>\n",
       "  </thead>\n",
       "  <tbody>\n",
       "    <tr>\n",
       "      <th>0</th>\n",
       "      <td>Alabama</td>\n",
       "      <td>0.06</td>\n",
       "      <td>595</td>\n",
       "      <td>571</td>\n",
       "      <td>1166</td>\n",
       "      <td>1.00</td>\n",
       "      <td>18.9</td>\n",
       "      <td>18.3</td>\n",
       "      <td>19.6</td>\n",
       "      <td>19.0</td>\n",
       "      <td>19.1</td>\n",
       "    </tr>\n",
       "    <tr>\n",
       "      <th>1</th>\n",
       "      <td>Alaska</td>\n",
       "      <td>0.43</td>\n",
       "      <td>562</td>\n",
       "      <td>544</td>\n",
       "      <td>1106</td>\n",
       "      <td>0.33</td>\n",
       "      <td>19.8</td>\n",
       "      <td>20.6</td>\n",
       "      <td>21.6</td>\n",
       "      <td>20.7</td>\n",
       "      <td>20.8</td>\n",
       "    </tr>\n",
       "    <tr>\n",
       "      <th>2</th>\n",
       "      <td>Arizona</td>\n",
       "      <td>0.29</td>\n",
       "      <td>577</td>\n",
       "      <td>572</td>\n",
       "      <td>1149</td>\n",
       "      <td>0.66</td>\n",
       "      <td>18.2</td>\n",
       "      <td>19.4</td>\n",
       "      <td>19.5</td>\n",
       "      <td>19.2</td>\n",
       "      <td>19.2</td>\n",
       "    </tr>\n",
       "  </tbody>\n",
       "</table>\n",
       "</div>"
      ],
      "text/plain": [
       "     state  sat_18_participation  sat_18_erw  sat_18_math  sat_18_total  \\\n",
       "0  Alabama                  0.06         595          571          1166   \n",
       "1   Alaska                  0.43         562          544          1106   \n",
       "2  Arizona                  0.29         577          572          1149   \n",
       "\n",
       "   act_18_participation  act_18_english  act_18_math  act_18_reading  \\\n",
       "0                  1.00            18.9         18.3            19.6   \n",
       "1                  0.33            19.8         20.6            21.6   \n",
       "2                  0.66            18.2         19.4            19.5   \n",
       "\n",
       "   act_18_science  act_18_composite  \n",
       "0            19.0              19.1  \n",
       "1            20.7              20.8  \n",
       "2            19.2              19.2  "
      ]
     },
     "execution_count": 1090,
     "metadata": {},
     "output_type": "execute_result"
    }
   ],
   "source": [
    "# check\n",
    "combined_18.head(3)"
   ]
  },
  {
   "cell_type": "code",
   "execution_count": 1091,
   "metadata": {},
   "outputs": [],
   "source": [
    "# save out date as combined_2018.csv\n",
    "combined_18.to_csv('../data/combined_2018.csv')"
   ]
  },
  {
   "cell_type": "markdown",
   "metadata": {},
   "source": [
    "#### Combine your 2017 and 2018 data into a single dataframe\n",
    "\n",
    "Saved the contents of this merged dataframe as `final.csv`."
   ]
  },
  {
   "cell_type": "code",
   "execution_count": 1092,
   "metadata": {
    "scrolled": true
   },
   "outputs": [],
   "source": [
    "# merge 2017 and 2018 dataset\n",
    "final = pd.merge(combined_17, combined_18, on='state', how='outer')"
   ]
  },
  {
   "cell_type": "code",
   "execution_count": 1093,
   "metadata": {},
   "outputs": [],
   "source": [
    "# save out combined final data to final.csv\n",
    "final.to_csv('../data/final.csv')"
   ]
  },
  {
   "cell_type": "markdown",
   "metadata": {},
   "source": [
    "## Exploratory Data Analysis\n",
    "\n",
    "\n",
    "### Summary Statistics\n",
    "Transpose the output of pandas `describe` method to create a quick overview of each numeric feature."
   ]
  },
  {
   "cell_type": "code",
   "execution_count": 1094,
   "metadata": {},
   "outputs": [
    {
     "data": {
      "text/html": [
       "<div>\n",
       "<style scoped>\n",
       "    .dataframe tbody tr th:only-of-type {\n",
       "        vertical-align: middle;\n",
       "    }\n",
       "\n",
       "    .dataframe tbody tr th {\n",
       "        vertical-align: top;\n",
       "    }\n",
       "\n",
       "    .dataframe thead th {\n",
       "        text-align: right;\n",
       "    }\n",
       "</style>\n",
       "<table border=\"1\" class=\"dataframe\">\n",
       "  <thead>\n",
       "    <tr style=\"text-align: right;\">\n",
       "      <th></th>\n",
       "      <th>sat_17_participation</th>\n",
       "      <th>sat_17_erw</th>\n",
       "      <th>sat_17_math</th>\n",
       "      <th>sat_17_total</th>\n",
       "      <th>act_17_participation</th>\n",
       "      <th>act_17_english</th>\n",
       "      <th>act_17_math</th>\n",
       "      <th>act_17_reading</th>\n",
       "      <th>act_17_science</th>\n",
       "      <th>act_17_composite</th>\n",
       "      <th>sat_18_participation</th>\n",
       "      <th>sat_18_erw</th>\n",
       "      <th>sat_18_math</th>\n",
       "      <th>sat_18_total</th>\n",
       "      <th>act_18_participation</th>\n",
       "      <th>act_18_english</th>\n",
       "      <th>act_18_math</th>\n",
       "      <th>act_18_reading</th>\n",
       "      <th>act_18_science</th>\n",
       "      <th>act_18_composite</th>\n",
       "    </tr>\n",
       "  </thead>\n",
       "  <tbody>\n",
       "    <tr>\n",
       "      <th>count</th>\n",
       "      <td>51.000000</td>\n",
       "      <td>51.000000</td>\n",
       "      <td>51.000000</td>\n",
       "      <td>51.000000</td>\n",
       "      <td>51.000000</td>\n",
       "      <td>51.000000</td>\n",
       "      <td>51.000000</td>\n",
       "      <td>51.000000</td>\n",
       "      <td>51.000000</td>\n",
       "      <td>51.000000</td>\n",
       "      <td>51.000000</td>\n",
       "      <td>51.000000</td>\n",
       "      <td>51.000000</td>\n",
       "      <td>51.000000</td>\n",
       "      <td>51.000000</td>\n",
       "      <td>51.000000</td>\n",
       "      <td>51.000000</td>\n",
       "      <td>51.000000</td>\n",
       "      <td>51.000000</td>\n",
       "      <td>51.000000</td>\n",
       "    </tr>\n",
       "    <tr>\n",
       "      <th>mean</th>\n",
       "      <td>0.398039</td>\n",
       "      <td>569.117647</td>\n",
       "      <td>556.882353</td>\n",
       "      <td>1126.098039</td>\n",
       "      <td>0.652549</td>\n",
       "      <td>20.931373</td>\n",
       "      <td>21.182353</td>\n",
       "      <td>22.013725</td>\n",
       "      <td>21.450980</td>\n",
       "      <td>21.519608</td>\n",
       "      <td>0.457451</td>\n",
       "      <td>563.686275</td>\n",
       "      <td>556.235294</td>\n",
       "      <td>1120.019608</td>\n",
       "      <td>0.616471</td>\n",
       "      <td>20.988235</td>\n",
       "      <td>21.125490</td>\n",
       "      <td>22.015686</td>\n",
       "      <td>21.345098</td>\n",
       "      <td>21.486275</td>\n",
       "    </tr>\n",
       "    <tr>\n",
       "      <th>std</th>\n",
       "      <td>0.352766</td>\n",
       "      <td>45.666901</td>\n",
       "      <td>47.121395</td>\n",
       "      <td>92.494812</td>\n",
       "      <td>0.321408</td>\n",
       "      <td>2.353677</td>\n",
       "      <td>1.981989</td>\n",
       "      <td>2.067271</td>\n",
       "      <td>1.739353</td>\n",
       "      <td>2.020695</td>\n",
       "      <td>0.373143</td>\n",
       "      <td>47.502627</td>\n",
       "      <td>47.772623</td>\n",
       "      <td>94.155083</td>\n",
       "      <td>0.340810</td>\n",
       "      <td>2.446356</td>\n",
       "      <td>2.035765</td>\n",
       "      <td>2.167245</td>\n",
       "      <td>1.870114</td>\n",
       "      <td>2.106278</td>\n",
       "    </tr>\n",
       "    <tr>\n",
       "      <th>min</th>\n",
       "      <td>0.020000</td>\n",
       "      <td>482.000000</td>\n",
       "      <td>468.000000</td>\n",
       "      <td>950.000000</td>\n",
       "      <td>0.080000</td>\n",
       "      <td>16.300000</td>\n",
       "      <td>18.000000</td>\n",
       "      <td>18.100000</td>\n",
       "      <td>18.200000</td>\n",
       "      <td>17.800000</td>\n",
       "      <td>0.020000</td>\n",
       "      <td>480.000000</td>\n",
       "      <td>480.000000</td>\n",
       "      <td>977.000000</td>\n",
       "      <td>0.070000</td>\n",
       "      <td>16.600000</td>\n",
       "      <td>17.800000</td>\n",
       "      <td>18.000000</td>\n",
       "      <td>17.900000</td>\n",
       "      <td>17.700000</td>\n",
       "    </tr>\n",
       "    <tr>\n",
       "      <th>25%</th>\n",
       "      <td>0.040000</td>\n",
       "      <td>533.500000</td>\n",
       "      <td>523.500000</td>\n",
       "      <td>1055.500000</td>\n",
       "      <td>0.310000</td>\n",
       "      <td>19.000000</td>\n",
       "      <td>19.400000</td>\n",
       "      <td>20.450000</td>\n",
       "      <td>19.950000</td>\n",
       "      <td>19.800000</td>\n",
       "      <td>0.045000</td>\n",
       "      <td>534.500000</td>\n",
       "      <td>522.500000</td>\n",
       "      <td>1057.500000</td>\n",
       "      <td>0.285000</td>\n",
       "      <td>19.100000</td>\n",
       "      <td>19.400000</td>\n",
       "      <td>20.450000</td>\n",
       "      <td>19.850000</td>\n",
       "      <td>19.950000</td>\n",
       "    </tr>\n",
       "    <tr>\n",
       "      <th>50%</th>\n",
       "      <td>0.380000</td>\n",
       "      <td>559.000000</td>\n",
       "      <td>548.000000</td>\n",
       "      <td>1107.000000</td>\n",
       "      <td>0.690000</td>\n",
       "      <td>20.700000</td>\n",
       "      <td>20.900000</td>\n",
       "      <td>21.800000</td>\n",
       "      <td>21.300000</td>\n",
       "      <td>21.400000</td>\n",
       "      <td>0.520000</td>\n",
       "      <td>552.000000</td>\n",
       "      <td>544.000000</td>\n",
       "      <td>1098.000000</td>\n",
       "      <td>0.660000</td>\n",
       "      <td>20.200000</td>\n",
       "      <td>20.700000</td>\n",
       "      <td>21.600000</td>\n",
       "      <td>21.100000</td>\n",
       "      <td>21.300000</td>\n",
       "    </tr>\n",
       "    <tr>\n",
       "      <th>75%</th>\n",
       "      <td>0.660000</td>\n",
       "      <td>613.000000</td>\n",
       "      <td>599.000000</td>\n",
       "      <td>1212.000000</td>\n",
       "      <td>1.000000</td>\n",
       "      <td>23.300000</td>\n",
       "      <td>23.100000</td>\n",
       "      <td>24.150000</td>\n",
       "      <td>23.200000</td>\n",
       "      <td>23.600000</td>\n",
       "      <td>0.775000</td>\n",
       "      <td>610.500000</td>\n",
       "      <td>593.500000</td>\n",
       "      <td>1204.000000</td>\n",
       "      <td>1.000000</td>\n",
       "      <td>23.700000</td>\n",
       "      <td>23.150000</td>\n",
       "      <td>24.100000</td>\n",
       "      <td>23.050000</td>\n",
       "      <td>23.550000</td>\n",
       "    </tr>\n",
       "    <tr>\n",
       "      <th>max</th>\n",
       "      <td>1.000000</td>\n",
       "      <td>644.000000</td>\n",
       "      <td>651.000000</td>\n",
       "      <td>1295.000000</td>\n",
       "      <td>1.000000</td>\n",
       "      <td>25.500000</td>\n",
       "      <td>25.300000</td>\n",
       "      <td>26.000000</td>\n",
       "      <td>24.900000</td>\n",
       "      <td>25.500000</td>\n",
       "      <td>1.000000</td>\n",
       "      <td>643.000000</td>\n",
       "      <td>655.000000</td>\n",
       "      <td>1298.000000</td>\n",
       "      <td>1.000000</td>\n",
       "      <td>26.000000</td>\n",
       "      <td>25.200000</td>\n",
       "      <td>26.100000</td>\n",
       "      <td>24.900000</td>\n",
       "      <td>25.600000</td>\n",
       "    </tr>\n",
       "  </tbody>\n",
       "</table>\n",
       "</div>"
      ],
      "text/plain": [
       "       sat_17_participation  sat_17_erw  sat_17_math  sat_17_total  \\\n",
       "count             51.000000   51.000000    51.000000     51.000000   \n",
       "mean               0.398039  569.117647   556.882353   1126.098039   \n",
       "std                0.352766   45.666901    47.121395     92.494812   \n",
       "min                0.020000  482.000000   468.000000    950.000000   \n",
       "25%                0.040000  533.500000   523.500000   1055.500000   \n",
       "50%                0.380000  559.000000   548.000000   1107.000000   \n",
       "75%                0.660000  613.000000   599.000000   1212.000000   \n",
       "max                1.000000  644.000000   651.000000   1295.000000   \n",
       "\n",
       "       act_17_participation  act_17_english  act_17_math  act_17_reading  \\\n",
       "count             51.000000       51.000000    51.000000       51.000000   \n",
       "mean               0.652549       20.931373    21.182353       22.013725   \n",
       "std                0.321408        2.353677     1.981989        2.067271   \n",
       "min                0.080000       16.300000    18.000000       18.100000   \n",
       "25%                0.310000       19.000000    19.400000       20.450000   \n",
       "50%                0.690000       20.700000    20.900000       21.800000   \n",
       "75%                1.000000       23.300000    23.100000       24.150000   \n",
       "max                1.000000       25.500000    25.300000       26.000000   \n",
       "\n",
       "       act_17_science  act_17_composite  sat_18_participation  sat_18_erw  \\\n",
       "count       51.000000         51.000000             51.000000   51.000000   \n",
       "mean        21.450980         21.519608              0.457451  563.686275   \n",
       "std          1.739353          2.020695              0.373143   47.502627   \n",
       "min         18.200000         17.800000              0.020000  480.000000   \n",
       "25%         19.950000         19.800000              0.045000  534.500000   \n",
       "50%         21.300000         21.400000              0.520000  552.000000   \n",
       "75%         23.200000         23.600000              0.775000  610.500000   \n",
       "max         24.900000         25.500000              1.000000  643.000000   \n",
       "\n",
       "       sat_18_math  sat_18_total  act_18_participation  act_18_english  \\\n",
       "count    51.000000     51.000000             51.000000       51.000000   \n",
       "mean    556.235294   1120.019608              0.616471       20.988235   \n",
       "std      47.772623     94.155083              0.340810        2.446356   \n",
       "min     480.000000    977.000000              0.070000       16.600000   \n",
       "25%     522.500000   1057.500000              0.285000       19.100000   \n",
       "50%     544.000000   1098.000000              0.660000       20.200000   \n",
       "75%     593.500000   1204.000000              1.000000       23.700000   \n",
       "max     655.000000   1298.000000              1.000000       26.000000   \n",
       "\n",
       "       act_18_math  act_18_reading  act_18_science  act_18_composite  \n",
       "count    51.000000       51.000000       51.000000         51.000000  \n",
       "mean     21.125490       22.015686       21.345098         21.486275  \n",
       "std       2.035765        2.167245        1.870114          2.106278  \n",
       "min      17.800000       18.000000       17.900000         17.700000  \n",
       "25%      19.400000       20.450000       19.850000         19.950000  \n",
       "50%      20.700000       21.600000       21.100000         21.300000  \n",
       "75%      23.150000       24.100000       23.050000         23.550000  \n",
       "max      25.200000       26.100000       24.900000         25.600000  "
      ]
     },
     "execution_count": 1094,
     "metadata": {},
     "output_type": "execute_result"
    }
   ],
   "source": [
    "final.describe()"
   ]
  },
  {
   "cell_type": "markdown",
   "metadata": {},
   "source": [
    "#### Manually calculate standard deviation\n",
    "\n",
    "$$\\sigma = \\sqrt{\\frac{1}{n}\\sum_{i=1}^n(x_i - \\mu)^2}$$\n",
    "\n",
    "- Write a function to calculate standard deviation using the formula above"
   ]
  },
  {
   "cell_type": "code",
   "execution_count": 1095,
   "metadata": {},
   "outputs": [],
   "source": [
    "# create standard devation function\n",
    "def std_dev(series):\n",
    "    sum_n = 0\n",
    "    for x in series: \n",
    "         # every iteration subtracts the mean value of a list [sum(data)/len(data)]...\n",
    "         # from every [x] element of a list and then raises to the second power [**2]   \n",
    "        sum_n += ((x - sum(series)/len(series))**2) \n",
    "    return (sum_n/(len(series)-1))**.5 "
   ]
  },
  {
   "cell_type": "code",
   "execution_count": 1096,
   "metadata": {},
   "outputs": [
    {
     "data": {
      "text/plain": [
       "(45.66690138768932, 45.21697020437866)"
      ]
     },
     "execution_count": 1096,
     "metadata": {},
     "output_type": "execute_result"
    }
   ],
   "source": [
    "# compare custom function with numpy's fucntion\n",
    "std_dev(final.sat_17_erw), np.std(final.sat_17_erw)"
   ]
  },
  {
   "cell_type": "markdown",
   "metadata": {},
   "source": [
    "- Use a **dictionary comprehension** to apply your standard deviation function to each numeric column in the dataframe.  **No loops**  \n",
    "- Assign the output to variable `sd` as a dictionary where: \n",
    "    - Each column name is now a key \n",
    "    - That standard deviation of the column is the value "
   ]
  },
  {
   "cell_type": "code",
   "execution_count": 1097,
   "metadata": {},
   "outputs": [
    {
     "data": {
      "text/plain": [
       "{'sat_17_participation': 0.35276632270013036,\n",
       " 'sat_17_erw': 45.66690138768932,\n",
       " 'sat_17_math': 47.12139516560329,\n",
       " 'sat_17_total': 92.49481172519046,\n",
       " 'act_17_participation': 0.32140842015886834,\n",
       " 'act_17_english': 2.35367713980303,\n",
       " 'act_17_math': 1.9819894936505533,\n",
       " 'act_17_reading': 2.0672706264873146,\n",
       " 'act_17_science': 1.7393530462812443,\n",
       " 'act_17_composite': 2.020694891154341,\n",
       " 'sat_18_participation': 0.37314256330391965,\n",
       " 'sat_18_erw': 47.50262737831599,\n",
       " 'sat_18_math': 47.77262322095955,\n",
       " 'sat_18_total': 94.15508275097599,\n",
       " 'act_18_participation': 0.3408097623567245,\n",
       " 'act_18_english': 2.4463562339793055,\n",
       " 'act_18_math': 2.035764538177723,\n",
       " 'act_18_reading': 2.1672445684804105,\n",
       " 'act_18_science': 1.8701137639716146,\n",
       " 'act_18_composite': 2.1062781969951776}"
      ]
     },
     "execution_count": 1097,
     "metadata": {},
     "output_type": "execute_result"
    }
   ],
   "source": [
    "# filter for header and rows\n",
    "header = list(final.columns)[1:]\n",
    "rows = [std_dev(final[x]) for x in header]\n",
    "\n",
    "# use dictionary comprehension to apply std_dev function to each numeric column in dataframe\n",
    "sd = {k:v for k,v in zip(header, rows)}\n",
    "sd"
   ]
  },
  {
   "cell_type": "markdown",
   "metadata": {},
   "source": [
    "Do your manually calculated standard deviations match up with the output from pandas `describe`?   \n",
    "What about numpy's `std` method?\n",
    "\n",
    "**Answer:**  \n",
    "Yes, it matches only if *n-1* is used  \n",
    "Numpy's std method uses divides only by *n*"
   ]
  },
  {
   "cell_type": "markdown",
   "metadata": {},
   "source": [
    "### Investigate trends in the data\n",
    "Using sorting and/or masking (along with the `.head` method to not print our entire dataframe), consider the following questions:\n",
    "\n",
    "**- Which states have the highest and lowest participation rates for the:**\n",
    "    - 2017 SAT\n",
    "    Highest: Connecticut, Delaware, District of Columbia, Michigan\n",
    "    Lowest: Iowa, Mississippi, North Dakota\n",
    "    \n",
    "    - 2018 SAT \n",
    "    Highest: Idaho, Michigan, Delaware, Connecticut, Colorado        \n",
    "    Lowest: North Dakota\n",
    "    \n",
    "    - 2017 ACT\n",
    "    Highest: Wyoming, Oklahoma, Arkansas, Colorado, Kentucky, Louisiana, Minnesota, Mississippi, Wisconsin, \n",
    "    Montana, Nevada, North Carolina, Missouri, Alabama, Tennessee, Utah, South Carolina\n",
    "    Lowest: Maine\n",
    "    \n",
    "    - 2018 ACT\n",
    "    Highest: Wyoming, Oklahoma, Arkansas, Kentucky, Louisiana, Mississippi, Wisconsin, Montana, Nebraska, Nevada,\n",
    "    North Carolina, Ohio, Missouri, Alabama, South Carolina, Tennessee, Utah        \n",
    "    Lowest: Maine\n",
    "    \n",
    "**- Do any states with 100% participation on a given test have a rate change year-to-year?**  \n",
    "**- Do any states show have more than 50% participation on *both* tests either year?**\n",
    "\n",
    "Based on what you've just observed, have you identified any states that you're especially interested in?   \n",
    "*Make a note of these and state why you think they're interesting*.\n",
    "\n",
    "You should **comment on your findings at each step** in a markdown cell below your code block. Make sure you include at least one example of: \n",
    "- sorting your dataframe by a column\n",
    "- one example of using boolean filtering (i.e., masking) to select a subset of the dataframe."
   ]
  },
  {
   "cell_type": "code",
   "execution_count": 1098,
   "metadata": {},
   "outputs": [],
   "source": [
    "# set state as index\n",
    "final.set_index('state', inplace=True)"
   ]
  },
  {
   "cell_type": "code",
   "execution_count": 1099,
   "metadata": {
    "scrolled": false
   },
   "outputs": [
    {
     "data": {
      "text/html": [
       "<div>\n",
       "<style scoped>\n",
       "    .dataframe tbody tr th:only-of-type {\n",
       "        vertical-align: middle;\n",
       "    }\n",
       "\n",
       "    .dataframe tbody tr th {\n",
       "        vertical-align: top;\n",
       "    }\n",
       "\n",
       "    .dataframe thead th {\n",
       "        text-align: right;\n",
       "    }\n",
       "</style>\n",
       "<table border=\"1\" class=\"dataframe\">\n",
       "  <thead>\n",
       "    <tr style=\"text-align: right;\">\n",
       "      <th></th>\n",
       "      <th>sat_17_participation</th>\n",
       "      <th>sat_17_erw</th>\n",
       "      <th>sat_17_math</th>\n",
       "      <th>sat_17_total</th>\n",
       "      <th>act_17_participation</th>\n",
       "      <th>act_17_english</th>\n",
       "      <th>act_17_math</th>\n",
       "      <th>act_17_reading</th>\n",
       "      <th>act_17_science</th>\n",
       "      <th>act_17_composite</th>\n",
       "      <th>sat_18_participation</th>\n",
       "      <th>sat_18_erw</th>\n",
       "      <th>sat_18_math</th>\n",
       "      <th>sat_18_total</th>\n",
       "      <th>act_18_participation</th>\n",
       "      <th>act_18_english</th>\n",
       "      <th>act_18_math</th>\n",
       "      <th>act_18_reading</th>\n",
       "      <th>act_18_science</th>\n",
       "      <th>act_18_composite</th>\n",
       "    </tr>\n",
       "    <tr>\n",
       "      <th>state</th>\n",
       "      <th></th>\n",
       "      <th></th>\n",
       "      <th></th>\n",
       "      <th></th>\n",
       "      <th></th>\n",
       "      <th></th>\n",
       "      <th></th>\n",
       "      <th></th>\n",
       "      <th></th>\n",
       "      <th></th>\n",
       "      <th></th>\n",
       "      <th></th>\n",
       "      <th></th>\n",
       "      <th></th>\n",
       "      <th></th>\n",
       "      <th></th>\n",
       "      <th></th>\n",
       "      <th></th>\n",
       "      <th></th>\n",
       "      <th></th>\n",
       "    </tr>\n",
       "  </thead>\n",
       "  <tbody>\n",
       "    <tr>\n",
       "      <th>Alabama</th>\n",
       "      <td>0.05</td>\n",
       "      <td>593</td>\n",
       "      <td>572</td>\n",
       "      <td>1165</td>\n",
       "      <td>1.00</td>\n",
       "      <td>18.9</td>\n",
       "      <td>18.4</td>\n",
       "      <td>19.7</td>\n",
       "      <td>19.4</td>\n",
       "      <td>19.2</td>\n",
       "      <td>0.06</td>\n",
       "      <td>595</td>\n",
       "      <td>571</td>\n",
       "      <td>1166</td>\n",
       "      <td>1.00</td>\n",
       "      <td>18.9</td>\n",
       "      <td>18.3</td>\n",
       "      <td>19.6</td>\n",
       "      <td>19.0</td>\n",
       "      <td>19.1</td>\n",
       "    </tr>\n",
       "    <tr>\n",
       "      <th>Alaska</th>\n",
       "      <td>0.38</td>\n",
       "      <td>547</td>\n",
       "      <td>533</td>\n",
       "      <td>1080</td>\n",
       "      <td>0.65</td>\n",
       "      <td>18.7</td>\n",
       "      <td>19.8</td>\n",
       "      <td>20.4</td>\n",
       "      <td>19.9</td>\n",
       "      <td>19.8</td>\n",
       "      <td>0.43</td>\n",
       "      <td>562</td>\n",
       "      <td>544</td>\n",
       "      <td>1106</td>\n",
       "      <td>0.33</td>\n",
       "      <td>19.8</td>\n",
       "      <td>20.6</td>\n",
       "      <td>21.6</td>\n",
       "      <td>20.7</td>\n",
       "      <td>20.8</td>\n",
       "    </tr>\n",
       "    <tr>\n",
       "      <th>Arizona</th>\n",
       "      <td>0.30</td>\n",
       "      <td>563</td>\n",
       "      <td>553</td>\n",
       "      <td>1116</td>\n",
       "      <td>0.62</td>\n",
       "      <td>18.6</td>\n",
       "      <td>19.8</td>\n",
       "      <td>20.1</td>\n",
       "      <td>19.8</td>\n",
       "      <td>19.7</td>\n",
       "      <td>0.29</td>\n",
       "      <td>577</td>\n",
       "      <td>572</td>\n",
       "      <td>1149</td>\n",
       "      <td>0.66</td>\n",
       "      <td>18.2</td>\n",
       "      <td>19.4</td>\n",
       "      <td>19.5</td>\n",
       "      <td>19.2</td>\n",
       "      <td>19.2</td>\n",
       "    </tr>\n",
       "  </tbody>\n",
       "</table>\n",
       "</div>"
      ],
      "text/plain": [
       "         sat_17_participation  sat_17_erw  sat_17_math  sat_17_total  \\\n",
       "state                                                                  \n",
       "Alabama                  0.05         593          572          1165   \n",
       "Alaska                   0.38         547          533          1080   \n",
       "Arizona                  0.30         563          553          1116   \n",
       "\n",
       "         act_17_participation  act_17_english  act_17_math  act_17_reading  \\\n",
       "state                                                                        \n",
       "Alabama                  1.00            18.9         18.4            19.7   \n",
       "Alaska                   0.65            18.7         19.8            20.4   \n",
       "Arizona                  0.62            18.6         19.8            20.1   \n",
       "\n",
       "         act_17_science  act_17_composite  sat_18_participation  sat_18_erw  \\\n",
       "state                                                                         \n",
       "Alabama            19.4              19.2                  0.06         595   \n",
       "Alaska             19.9              19.8                  0.43         562   \n",
       "Arizona            19.8              19.7                  0.29         577   \n",
       "\n",
       "         sat_18_math  sat_18_total  act_18_participation  act_18_english  \\\n",
       "state                                                                      \n",
       "Alabama          571          1166                  1.00            18.9   \n",
       "Alaska           544          1106                  0.33            19.8   \n",
       "Arizona          572          1149                  0.66            18.2   \n",
       "\n",
       "         act_18_math  act_18_reading  act_18_science  act_18_composite  \n",
       "state                                                                   \n",
       "Alabama         18.3            19.6            19.0              19.1  \n",
       "Alaska          20.6            21.6            20.7              20.8  \n",
       "Arizona         19.4            19.5            19.2              19.2  "
      ]
     },
     "execution_count": 1099,
     "metadata": {},
     "output_type": "execute_result"
    }
   ],
   "source": [
    "final.head(3)"
   ]
  },
  {
   "cell_type": "markdown",
   "metadata": {},
   "source": [
    "**- Which states have the highest and lowest participation rates for SAT & ACT tests (2017 & 2018)**"
   ]
  },
  {
   "cell_type": "code",
   "execution_count": 1100,
   "metadata": {},
   "outputs": [],
   "source": [
    "# create a function for finding out States with highest and lowest rates for each test score\n",
    "def high_lows(series):\n",
    "    # filter for states with top and bot scores\n",
    "    top, bot  = series.sort_values(ascending=False).head(15), series.sort_values(ascending=False).tail()\n",
    "    \n",
    "    # convert to DataFrame & concat\n",
    "    top_df, bot_df = pd.DataFrame(data=top), pd.DataFrame(data=bot)\n",
    "    df = pd.concat([top_df, bot_df], join=\"outer\")\n",
    "    \n",
    "    return df"
   ]
  },
  {
   "cell_type": "code",
   "execution_count": 1101,
   "metadata": {},
   "outputs": [
    {
     "name": "stdout",
     "output_type": "stream",
     "text": [
      "                      sat_17_participation\n",
      "state                                     \n",
      "Connecticut                           1.00\n",
      "Delaware                              1.00\n",
      "District of Columbia                  1.00\n",
      "Michigan                              1.00\n",
      "New Hampshire                         0.96\n",
      "Maine                                 0.95\n",
      "Idaho                                 0.93\n",
      "Florida                               0.83\n",
      "Massachusetts                         0.76\n",
      "Rhode Island                          0.71\n",
      "New Jersey                            0.70\n",
      "Maryland                              0.69\n",
      "New York                              0.67\n",
      "Pennsylvania                          0.65\n",
      "Virginia                              0.65\n",
      "Utah                                  0.03\n",
      "Missouri                              0.03\n",
      "Iowa                                  0.02\n",
      "Mississippi                           0.02\n",
      "North Dakota                          0.02\n",
      "                      sat_18_participation\n",
      "state                                     \n",
      "Idaho                                 1.00\n",
      "Michigan                              1.00\n",
      "Delaware                              1.00\n",
      "Connecticut                           1.00\n",
      "Colorado                              1.00\n",
      "Illinois                              0.99\n",
      "Maine                                 0.99\n",
      "Rhode Island                          0.97\n",
      "New Hampshire                         0.96\n",
      "District of Columbia                  0.92\n",
      "New Jersey                            0.82\n",
      "Massachusetts                         0.80\n",
      "New York                              0.79\n",
      "Maryland                              0.76\n",
      "Georgia                               0.70\n",
      "Wisconsin                             0.03\n",
      "Nebraska                              0.03\n",
      "South Dakota                          0.03\n",
      "Wyoming                               0.03\n",
      "North Dakota                          0.02\n"
     ]
    }
   ],
   "source": [
    "# display top and bottom States' participation rates for SAT\n",
    "print(high_lows(final['sat_17_participation']))\n",
    "print(high_lows(final['sat_18_participation']))"
   ]
  },
  {
   "cell_type": "code",
   "execution_count": 1102,
   "metadata": {},
   "outputs": [
    {
     "name": "stdout",
     "output_type": "stream",
     "text": [
      "                act_17_participation\n",
      "state                               \n",
      "Wyoming                         1.00\n",
      "Oklahoma                        1.00\n",
      "Arkansas                        1.00\n",
      "Colorado                        1.00\n",
      "Kentucky                        1.00\n",
      "Louisiana                       1.00\n",
      "Minnesota                       1.00\n",
      "Mississippi                     1.00\n",
      "Wisconsin                       1.00\n",
      "Montana                         1.00\n",
      "Nevada                          1.00\n",
      "North Carolina                  1.00\n",
      "Missouri                        1.00\n",
      "Alabama                         1.00\n",
      "Tennessee                       1.00\n",
      "Pennsylvania                    0.23\n",
      "Rhode Island                    0.21\n",
      "Delaware                        0.18\n",
      "New Hampshire                   0.18\n",
      "Maine                           0.08\n",
      "                act_18_participation\n",
      "state                               \n",
      "Wyoming                         1.00\n",
      "Oklahoma                        1.00\n",
      "Arkansas                        1.00\n",
      "Kentucky                        1.00\n",
      "Louisiana                       1.00\n",
      "Mississippi                     1.00\n",
      "Wisconsin                       1.00\n",
      "Montana                         1.00\n",
      "Nebraska                        1.00\n",
      "Nevada                          1.00\n",
      "North Carolina                  1.00\n",
      "Ohio                            1.00\n",
      "Missouri                        1.00\n",
      "Alabama                         1.00\n",
      "South Carolina                  1.00\n",
      "Pennsylvania                    0.20\n",
      "Delaware                        0.17\n",
      "New Hampshire                   0.16\n",
      "Rhode Island                    0.15\n",
      "Maine                           0.07\n"
     ]
    }
   ],
   "source": [
    "# display top and bottom States' participation rates for ACT \n",
    "print(high_lows(final['act_17_participation']))\n",
    "print(high_lows(final['act_18_participation']))"
   ]
  },
  {
   "cell_type": "markdown",
   "metadata": {},
   "source": [
    "It seems based on the above observations that the ACT test is more popular throughout the US with States achieving 100% rates staying constant  \n",
    "while States that achieve 100% participation rate for the SAT test varies. "
   ]
  },
  {
   "cell_type": "code",
   "execution_count": 1103,
   "metadata": {},
   "outputs": [
    {
     "data": {
      "image/png": "[encoded data removed]",
      "text/plain": [
       "<Figure size 504x720 with 2 Axes>"
      ]
     },
     "metadata": {},
     "output_type": "display_data"
    }
   ],
   "source": [
    "# confirm the above observations with heat map \n",
    "plt.figure(figsize=(7,10))\n",
    "sns.heatmap(final[['sat_17_participation', 'sat_18_participation', 'act_17_participation', 'act_18_participation']].sort_values(by='act_18_participation', ascending=False), cmap='YlGnBu');"
   ]
  },
  {
   "cell_type": "markdown",
   "metadata": {},
   "source": [
    "**- Do any states with 100% participation on a given test have a rate change year-to-year?**  "
   ]
  },
  {
   "cell_type": "code",
   "execution_count": 1104,
   "metadata": {},
   "outputs": [],
   "source": [
    "# check for states with 100% participation for SAT 2017 & 2018\n",
    "sat_100 = final[(final.sat_17_participation == 1) | (final.sat_18_participation == 1)]\n",
    "sat_particpation_df = sat_100[['sat_17_participation', 'sat_18_participation']]"
   ]
  },
  {
   "cell_type": "code",
   "execution_count": 1105,
   "metadata": {},
   "outputs": [
    {
     "name": "stderr",
     "output_type": "stream",
     "text": [
      "/Users/jeromechua/anaconda3/lib/python3.6/site-packages/ipykernel_launcher.py:2: SettingWithCopyWarning:\n",
      "\n",
      "\n",
      "A value is trying to be set on a copy of a slice from a DataFrame.\n",
      "Try using .loc[row_indexer,col_indexer] = value instead\n",
      "\n",
      "See the caveats in the documentation: http://pandas.pydata.org/pandas-docs/stable/indexing.html#indexing-view-versus-copy\n",
      "\n"
     ]
    }
   ],
   "source": [
    "# create a rate of change column\n",
    "sat_particpation_df['rate_of_change'] = round(((sat_particpation_df['sat_18_participation'] -  sat_particpation_df['sat_17_participation'])/ sat_particpation_df['sat_17_participation']), 2)"
   ]
  },
  {
   "cell_type": "code",
   "execution_count": 1106,
   "metadata": {},
   "outputs": [],
   "source": [
    "# check for states with 100% participation for ACT 2017 and see if there is any change in 2018, vice-versa\n",
    "act_100 = final[(final.act_17_participation == 1) | (final.act_18_participation == 1)]\n",
    "act_particpation_df = act_100[['act_17_participation', 'act_18_participation']]"
   ]
  },
  {
   "cell_type": "code",
   "execution_count": 1107,
   "metadata": {},
   "outputs": [
    {
     "name": "stderr",
     "output_type": "stream",
     "text": [
      "/Users/jeromechua/anaconda3/lib/python3.6/site-packages/ipykernel_launcher.py:2: SettingWithCopyWarning:\n",
      "\n",
      "\n",
      "A value is trying to be set on a copy of a slice from a DataFrame.\n",
      "Try using .loc[row_indexer,col_indexer] = value instead\n",
      "\n",
      "See the caveats in the documentation: http://pandas.pydata.org/pandas-docs/stable/indexing.html#indexing-view-versus-copy\n",
      "\n"
     ]
    }
   ],
   "source": [
    "# create a rate of change column \n",
    "act_particpation_df['rate_of_change'] = round(((act_particpation_df['act_18_participation'] -  act_particpation_df['act_17_participation'])/ act_particpation_df['act_17_participation']), 2)"
   ]
  },
  {
   "cell_type": "code",
   "execution_count": 1108,
   "metadata": {},
   "outputs": [
    {
     "data": {
      "text/html": [
       "<div>\n",
       "<style scoped>\n",
       "    .dataframe tbody tr th:only-of-type {\n",
       "        vertical-align: middle;\n",
       "    }\n",
       "\n",
       "    .dataframe tbody tr th {\n",
       "        vertical-align: top;\n",
       "    }\n",
       "\n",
       "    .dataframe thead th {\n",
       "        text-align: right;\n",
       "    }\n",
       "</style>\n",
       "<table border=\"1\" class=\"dataframe\">\n",
       "  <thead>\n",
       "    <tr style=\"text-align: right;\">\n",
       "      <th></th>\n",
       "      <th>sat_17_participation</th>\n",
       "      <th>sat_18_participation</th>\n",
       "      <th>rate_of_change</th>\n",
       "    </tr>\n",
       "    <tr>\n",
       "      <th>state</th>\n",
       "      <th></th>\n",
       "      <th></th>\n",
       "      <th></th>\n",
       "    </tr>\n",
       "  </thead>\n",
       "  <tbody>\n",
       "    <tr>\n",
       "      <th>Colorado</th>\n",
       "      <td>0.11</td>\n",
       "      <td>1.00</td>\n",
       "      <td>8.09</td>\n",
       "    </tr>\n",
       "    <tr>\n",
       "      <th>District of Columbia</th>\n",
       "      <td>1.00</td>\n",
       "      <td>0.92</td>\n",
       "      <td>-0.08</td>\n",
       "    </tr>\n",
       "    <tr>\n",
       "      <th>Idaho</th>\n",
       "      <td>0.93</td>\n",
       "      <td>1.00</td>\n",
       "      <td>0.08</td>\n",
       "    </tr>\n",
       "  </tbody>\n",
       "</table>\n",
       "</div>"
      ],
      "text/plain": [
       "                      sat_17_participation  sat_18_participation  \\\n",
       "state                                                              \n",
       "Colorado                              0.11                  1.00   \n",
       "District of Columbia                  1.00                  0.92   \n",
       "Idaho                                 0.93                  1.00   \n",
       "\n",
       "                      rate_of_change  \n",
       "state                                 \n",
       "Colorado                        8.09  \n",
       "District of Columbia           -0.08  \n",
       "Idaho                           0.08  "
      ]
     },
     "execution_count": 1108,
     "metadata": {},
     "output_type": "execute_result"
    }
   ],
   "source": [
    "# filter for states with rate of change over 2017 & 2018\n",
    "sat_particpation_df[sat_particpation_df['rate_of_change'] != 0]"
   ]
  },
  {
   "cell_type": "code",
   "execution_count": 1109,
   "metadata": {},
   "outputs": [
    {
     "data": {
      "text/html": [
       "<div>\n",
       "<style scoped>\n",
       "    .dataframe tbody tr th:only-of-type {\n",
       "        vertical-align: middle;\n",
       "    }\n",
       "\n",
       "    .dataframe tbody tr th {\n",
       "        vertical-align: top;\n",
       "    }\n",
       "\n",
       "    .dataframe thead th {\n",
       "        text-align: right;\n",
       "    }\n",
       "</style>\n",
       "<table border=\"1\" class=\"dataframe\">\n",
       "  <thead>\n",
       "    <tr style=\"text-align: right;\">\n",
       "      <th></th>\n",
       "      <th>act_17_participation</th>\n",
       "      <th>act_18_participation</th>\n",
       "      <th>rate_of_change</th>\n",
       "    </tr>\n",
       "    <tr>\n",
       "      <th>state</th>\n",
       "      <th></th>\n",
       "      <th></th>\n",
       "      <th></th>\n",
       "    </tr>\n",
       "  </thead>\n",
       "  <tbody>\n",
       "    <tr>\n",
       "      <th>Colorado</th>\n",
       "      <td>1.00</td>\n",
       "      <td>0.30</td>\n",
       "      <td>-0.70</td>\n",
       "    </tr>\n",
       "    <tr>\n",
       "      <th>Minnesota</th>\n",
       "      <td>1.00</td>\n",
       "      <td>0.99</td>\n",
       "      <td>-0.01</td>\n",
       "    </tr>\n",
       "    <tr>\n",
       "      <th>Nebraska</th>\n",
       "      <td>0.84</td>\n",
       "      <td>1.00</td>\n",
       "      <td>0.19</td>\n",
       "    </tr>\n",
       "    <tr>\n",
       "      <th>Ohio</th>\n",
       "      <td>0.75</td>\n",
       "      <td>1.00</td>\n",
       "      <td>0.33</td>\n",
       "    </tr>\n",
       "  </tbody>\n",
       "</table>\n",
       "</div>"
      ],
      "text/plain": [
       "           act_17_participation  act_18_participation  rate_of_change\n",
       "state                                                                \n",
       "Colorado                   1.00                  0.30           -0.70\n",
       "Minnesota                  1.00                  0.99           -0.01\n",
       "Nebraska                   0.84                  1.00            0.19\n",
       "Ohio                       0.75                  1.00            0.33"
      ]
     },
     "execution_count": 1109,
     "metadata": {},
     "output_type": "execute_result"
    }
   ],
   "source": [
    "# filter for states with rate of change over 2017 & 2018\n",
    "act_particpation_df[act_particpation_df['rate_of_change'] !=0]"
   ]
  },
  {
   "cell_type": "markdown",
   "metadata": {},
   "source": [
    "*Answer:*  \n",
    "- SAT: There were changes for District of Columbia, Colorado, and Idaho from year 2017 to 2018 and vice-versa  \n",
    "- ACT: There were changes for Colorado, Minnesota, Nebraska, and Ohio from year 2017 to 2018 and vice-versa"
   ]
  },
  {
   "cell_type": "markdown",
   "metadata": {},
   "source": [
    "**- Do any states show have more than 50% participation on *both* tests either year?**"
   ]
  },
  {
   "cell_type": "code",
   "execution_count": 1110,
   "metadata": {},
   "outputs": [
    {
     "data": {
      "text/html": [
       "<div>\n",
       "<style scoped>\n",
       "    .dataframe tbody tr th:only-of-type {\n",
       "        vertical-align: middle;\n",
       "    }\n",
       "\n",
       "    .dataframe tbody tr th {\n",
       "        vertical-align: top;\n",
       "    }\n",
       "\n",
       "    .dataframe thead th {\n",
       "        text-align: right;\n",
       "    }\n",
       "</style>\n",
       "<table border=\"1\" class=\"dataframe\">\n",
       "  <thead>\n",
       "    <tr style=\"text-align: right;\">\n",
       "      <th></th>\n",
       "      <th>sat_17_participation</th>\n",
       "      <th>act_17_participation</th>\n",
       "    </tr>\n",
       "    <tr>\n",
       "      <th>state</th>\n",
       "      <th></th>\n",
       "      <th></th>\n",
       "    </tr>\n",
       "  </thead>\n",
       "  <tbody>\n",
       "    <tr>\n",
       "      <th>Florida</th>\n",
       "      <td>0.83</td>\n",
       "      <td>0.73</td>\n",
       "    </tr>\n",
       "    <tr>\n",
       "      <th>Georgia</th>\n",
       "      <td>0.61</td>\n",
       "      <td>0.55</td>\n",
       "    </tr>\n",
       "    <tr>\n",
       "      <th>Hawaii</th>\n",
       "      <td>0.55</td>\n",
       "      <td>0.90</td>\n",
       "    </tr>\n",
       "    <tr>\n",
       "      <th>South Carolina</th>\n",
       "      <td>0.50</td>\n",
       "      <td>1.00</td>\n",
       "    </tr>\n",
       "  </tbody>\n",
       "</table>\n",
       "</div>"
      ],
      "text/plain": [
       "                sat_17_participation  act_17_participation\n",
       "state                                                     \n",
       "Florida                         0.83                  0.73\n",
       "Georgia                         0.61                  0.55\n",
       "Hawaii                          0.55                  0.90\n",
       "South Carolina                  0.50                  1.00"
      ]
     },
     "execution_count": 1110,
     "metadata": {},
     "output_type": "execute_result"
    }
   ],
   "source": [
    "# filter for states that have more than 50% particpation rate for SAT & ACT tests in 2017\n",
    "fifty_2017 = final[(final.sat_17_participation >= 0.5) & (final.act_17_participation >= 0.5)]\n",
    "fifty_2017[['sat_17_participation', 'act_17_participation']]"
   ]
  },
  {
   "cell_type": "code",
   "execution_count": 1111,
   "metadata": {},
   "outputs": [
    {
     "data": {
      "text/html": [
       "<div>\n",
       "<style scoped>\n",
       "    .dataframe tbody tr th:only-of-type {\n",
       "        vertical-align: middle;\n",
       "    }\n",
       "\n",
       "    .dataframe tbody tr th {\n",
       "        vertical-align: top;\n",
       "    }\n",
       "\n",
       "    .dataframe thead th {\n",
       "        text-align: right;\n",
       "    }\n",
       "</style>\n",
       "<table border=\"1\" class=\"dataframe\">\n",
       "  <thead>\n",
       "    <tr style=\"text-align: right;\">\n",
       "      <th></th>\n",
       "      <th>sat_18_participation</th>\n",
       "      <th>act_18_participation</th>\n",
       "    </tr>\n",
       "    <tr>\n",
       "      <th>state</th>\n",
       "      <th></th>\n",
       "      <th></th>\n",
       "    </tr>\n",
       "  </thead>\n",
       "  <tbody>\n",
       "    <tr>\n",
       "      <th>Alaska</th>\n",
       "      <td>0.43</td>\n",
       "      <td>0.33</td>\n",
       "    </tr>\n",
       "    <tr>\n",
       "      <th>Oregon</th>\n",
       "      <td>0.48</td>\n",
       "      <td>0.42</td>\n",
       "    </tr>\n",
       "  </tbody>\n",
       "</table>\n",
       "</div>"
      ],
      "text/plain": [
       "        sat_18_participation  act_18_participation\n",
       "state                                             \n",
       "Alaska                  0.43                  0.33\n",
       "Oregon                  0.48                  0.42"
      ]
     },
     "execution_count": 1111,
     "metadata": {},
     "output_type": "execute_result"
    }
   ],
   "source": [
    "# filter for states that have more than 50% particpation rate for SAT & ACT tests in 2018\n",
    "fifty_2018  = final[(final.sat_18_participation <= 0.5) & (final.act_18_participation <= 0.5)]\n",
    "fifty_2018[['sat_18_participation', 'act_18_participation']]"
   ]
  },
  {
   "cell_type": "markdown",
   "metadata": {},
   "source": [
    "*Answer:*  \n",
    "- 2017: Yes, Florida, Georgia, Hawaiii & South Carolina had more than 50% participation rates for both tests  \n",
    "- 2018: Yes, Alaska & Oregon had more than 50% participation rates for both tests  "
   ]
  },
  {
   "cell_type": "markdown",
   "metadata": {},
   "source": [
    "**- Which states have the highest and lowest mean total/composite scores for the:**\n",
    "    - 2017 SAT\n",
    "    Highest: Minnesota     \n",
    "    Lowest: District of Columbia \n",
    "    - 2018 SAT\n",
    "     Highest: Minnesota     \n",
    "    Lowest: District of Columbia \n",
    "    - 2017 ACT\n",
    "     Highest: New Hampshire     \n",
    "    Lowest: Nevada\n",
    "    - 2018 ACT\n",
    "     Highest: Connecticut     \n",
    "    Lowest: Nevada "
   ]
  },
  {
   "cell_type": "code",
   "execution_count": 1112,
   "metadata": {},
   "outputs": [
    {
     "name": "stdout",
     "output_type": "stream",
     "text": [
      "                      sat_17_total\n",
      "state                             \n",
      "Minnesota                     1295\n",
      "Wisconsin                     1291\n",
      "Iowa                          1275\n",
      "Missouri                      1271\n",
      "Kansas                        1260\n",
      "North Dakota                  1256\n",
      "Nebraska                      1253\n",
      "Kentucky                      1247\n",
      "Mississippi                   1242\n",
      "Utah                          1238\n",
      "Wyoming                       1230\n",
      "Tennessee                     1228\n",
      "South Dakota                  1216\n",
      "Arkansas                      1208\n",
      "Colorado                      1201\n",
      "Maine                         1012\n",
      "Michigan                      1005\n",
      "Idaho                         1005\n",
      "Delaware                       996\n",
      "District of Columbia           950\n",
      "                      sat_18_total\n",
      "state                             \n",
      "Minnesota                     1298\n",
      "Wisconsin                     1294\n",
      "North Dakota                  1283\n",
      "Iowa                          1265\n",
      "Kansas                        1265\n",
      "Missouri                      1262\n",
      "Wyoming                       1257\n",
      "Nebraska                      1252\n",
      "Kentucky                      1248\n",
      "South Dakota                  1240\n",
      "Mississippi                   1236\n",
      "Tennessee                     1231\n",
      "Louisiana                     1210\n",
      "Montana                       1198\n",
      "Arkansas                      1169\n",
      "Utah                          1010\n",
      "Idaho                         1001\n",
      "West Virginia                  999\n",
      "Delaware                       998\n",
      "District of Columbia           977\n"
     ]
    }
   ],
   "source": [
    "# states with the highest & lowest total score for SAT test in 2017\n",
    "print(high_lows(final['sat_17_total']))\n",
    "\n",
    "# states with the highest & lowest total score for SAT test in 2018\n",
    "print(high_lows(final['sat_18_total']))"
   ]
  },
  {
   "cell_type": "code",
   "execution_count": 1113,
   "metadata": {},
   "outputs": [
    {
     "name": "stdout",
     "output_type": "stream",
     "text": [
      "                      act_17_composite\n",
      "state                                 \n",
      "New Hampshire                     25.5\n",
      "Massachusetts                     25.4\n",
      "Connecticut                       25.2\n",
      "Maine                             24.3\n",
      "District of Columbia              24.2\n",
      "New York                          24.2\n",
      "Michigan                          24.1\n",
      "Delaware                          24.1\n",
      "Rhode Island                      24.0\n",
      "New Jersey                        23.9\n",
      "Virginia                          23.8\n",
      "Pennsylvania                      23.7\n",
      "Maryland                          23.6\n",
      "Vermont                           23.6\n",
      "California                        22.8\n",
      "North Carolina                    19.1\n",
      "Hawaii                            19.0\n",
      "South Carolina                    18.7\n",
      "Mississippi                       18.6\n",
      "Nevada                            17.8\n",
      "                      act_18_composite\n",
      "state                                 \n",
      "Connecticut                       25.6\n",
      "Massachusetts                     25.5\n",
      "New Hampshire                     25.1\n",
      "New York                          24.5\n",
      "Michigan                          24.4\n",
      "Rhode Island                      24.2\n",
      "Vermont                           24.1\n",
      "Maine                             24.0\n",
      "Illinois                          23.9\n",
      "Virginia                          23.9\n",
      "Colorado                          23.9\n",
      "New Jersey                        23.7\n",
      "District of Columbia              23.6\n",
      "Pennsylvania                      23.5\n",
      "Delaware                          23.2\n",
      "Alabama                           19.1\n",
      "Hawaii                            18.9\n",
      "Mississippi                       18.6\n",
      "South Carolina                    18.3\n",
      "Nevada                            17.7\n"
     ]
    }
   ],
   "source": [
    "# states with the highest & lowest composite score for ACT test in 2017\n",
    "print(high_lows(final['act_17_composite']))\n",
    "\n",
    "# states with the highest & lowest composite score for ACT test in 2018\n",
    "print(high_lows(final['act_18_composite']))"
   ]
  },
  {
   "cell_type": "markdown",
   "metadata": {},
   "source": [
    "We can see that for SAT total tests scores in both year 2017 & 2018, there was no change to the States that achieved highest and lowest scores.  \n",
    "For ACT composite test scores there were changes in both the States that acheived the highest and lowest scores."
   ]
  },
  {
   "cell_type": "markdown",
   "metadata": {},
   "source": [
    "## Visualize the data (Explanatory Visualisation)\n",
    "\n",
    "There's not a magic bullet recommendation for the right number of plots to understand a given dataset, but visualizing your data is *always* a good idea. Not only does it allow you to quickly convey your findings (even if you have a non-technical audience), it will often reveal trends in your data that escaped you when you were looking only at numbers.\n",
    "\n",
    "Some recommendations on plotting:\n",
    "- Plots have titles\n",
    "- Plots have axis labels\n",
    "- Plots have appropriate tick labels\n",
    "- All text is legible in a plot\n",
    "- Plots demonstrate meaningful and valid relationships\n",
    "- Plots are interpreted to aid understanding"
   ]
  },
  {
   "cell_type": "markdown",
   "metadata": {},
   "source": [
    "#### Use Seaborn's heatmap with pandas `.corr()` to visualize correlations between all numeric features\n",
    "\n",
    "Heatmaps are generally not appropriate for presentations, and should often be excluded from reports as they can be visually overwhelming. **However**, they can be extremely useful in identify relationships of potential interest (as well as identifying potential collinearity before modeling).\n",
    "\n",
    "*example*:\n",
    "```python\n",
    "sns.heatmap(df.corr())\n",
    "```\n",
    "\n",
    "Please take time to format your output, adding a title. Look through some of the additional arguments and options  \n",
    "(Axis labels aren't really necessary, as long as the title is informative)."
   ]
  },
  {
   "cell_type": "code",
   "execution_count": 1114,
   "metadata": {
    "scrolled": true
   },
   "outputs": [
    {
     "data": {
      "text/html": [
       "<div>\n",
       "<style scoped>\n",
       "    .dataframe tbody tr th:only-of-type {\n",
       "        vertical-align: middle;\n",
       "    }\n",
       "\n",
       "    .dataframe tbody tr th {\n",
       "        vertical-align: top;\n",
       "    }\n",
       "\n",
       "    .dataframe thead th {\n",
       "        text-align: right;\n",
       "    }\n",
       "</style>\n",
       "<table border=\"1\" class=\"dataframe\">\n",
       "  <thead>\n",
       "    <tr style=\"text-align: right;\">\n",
       "      <th></th>\n",
       "      <th>sat_17_participation</th>\n",
       "      <th>sat_17_erw</th>\n",
       "      <th>sat_17_math</th>\n",
       "      <th>sat_17_total</th>\n",
       "      <th>act_17_participation</th>\n",
       "      <th>act_17_english</th>\n",
       "      <th>act_17_math</th>\n",
       "      <th>act_17_reading</th>\n",
       "      <th>act_17_science</th>\n",
       "      <th>act_17_composite</th>\n",
       "      <th>sat_18_participation</th>\n",
       "      <th>sat_18_erw</th>\n",
       "      <th>sat_18_math</th>\n",
       "      <th>sat_18_total</th>\n",
       "      <th>act_18_participation</th>\n",
       "      <th>act_18_english</th>\n",
       "      <th>act_18_math</th>\n",
       "      <th>act_18_reading</th>\n",
       "      <th>act_18_science</th>\n",
       "      <th>act_18_composite</th>\n",
       "    </tr>\n",
       "    <tr>\n",
       "      <th>state</th>\n",
       "      <th></th>\n",
       "      <th></th>\n",
       "      <th></th>\n",
       "      <th></th>\n",
       "      <th></th>\n",
       "      <th></th>\n",
       "      <th></th>\n",
       "      <th></th>\n",
       "      <th></th>\n",
       "      <th></th>\n",
       "      <th></th>\n",
       "      <th></th>\n",
       "      <th></th>\n",
       "      <th></th>\n",
       "      <th></th>\n",
       "      <th></th>\n",
       "      <th></th>\n",
       "      <th></th>\n",
       "      <th></th>\n",
       "      <th></th>\n",
       "    </tr>\n",
       "  </thead>\n",
       "  <tbody>\n",
       "    <tr>\n",
       "      <th>Alabama</th>\n",
       "      <td>0.05</td>\n",
       "      <td>593</td>\n",
       "      <td>572</td>\n",
       "      <td>1165</td>\n",
       "      <td>1.00</td>\n",
       "      <td>18.9</td>\n",
       "      <td>18.4</td>\n",
       "      <td>19.7</td>\n",
       "      <td>19.4</td>\n",
       "      <td>19.2</td>\n",
       "      <td>0.06</td>\n",
       "      <td>595</td>\n",
       "      <td>571</td>\n",
       "      <td>1166</td>\n",
       "      <td>1.00</td>\n",
       "      <td>18.9</td>\n",
       "      <td>18.3</td>\n",
       "      <td>19.6</td>\n",
       "      <td>19.0</td>\n",
       "      <td>19.1</td>\n",
       "    </tr>\n",
       "    <tr>\n",
       "      <th>Alaska</th>\n",
       "      <td>0.38</td>\n",
       "      <td>547</td>\n",
       "      <td>533</td>\n",
       "      <td>1080</td>\n",
       "      <td>0.65</td>\n",
       "      <td>18.7</td>\n",
       "      <td>19.8</td>\n",
       "      <td>20.4</td>\n",
       "      <td>19.9</td>\n",
       "      <td>19.8</td>\n",
       "      <td>0.43</td>\n",
       "      <td>562</td>\n",
       "      <td>544</td>\n",
       "      <td>1106</td>\n",
       "      <td>0.33</td>\n",
       "      <td>19.8</td>\n",
       "      <td>20.6</td>\n",
       "      <td>21.6</td>\n",
       "      <td>20.7</td>\n",
       "      <td>20.8</td>\n",
       "    </tr>\n",
       "    <tr>\n",
       "      <th>Arizona</th>\n",
       "      <td>0.30</td>\n",
       "      <td>563</td>\n",
       "      <td>553</td>\n",
       "      <td>1116</td>\n",
       "      <td>0.62</td>\n",
       "      <td>18.6</td>\n",
       "      <td>19.8</td>\n",
       "      <td>20.1</td>\n",
       "      <td>19.8</td>\n",
       "      <td>19.7</td>\n",
       "      <td>0.29</td>\n",
       "      <td>577</td>\n",
       "      <td>572</td>\n",
       "      <td>1149</td>\n",
       "      <td>0.66</td>\n",
       "      <td>18.2</td>\n",
       "      <td>19.4</td>\n",
       "      <td>19.5</td>\n",
       "      <td>19.2</td>\n",
       "      <td>19.2</td>\n",
       "    </tr>\n",
       "    <tr>\n",
       "      <th>Arkansas</th>\n",
       "      <td>0.03</td>\n",
       "      <td>614</td>\n",
       "      <td>594</td>\n",
       "      <td>1208</td>\n",
       "      <td>1.00</td>\n",
       "      <td>18.9</td>\n",
       "      <td>19.0</td>\n",
       "      <td>19.7</td>\n",
       "      <td>19.5</td>\n",
       "      <td>19.4</td>\n",
       "      <td>0.05</td>\n",
       "      <td>592</td>\n",
       "      <td>576</td>\n",
       "      <td>1169</td>\n",
       "      <td>1.00</td>\n",
       "      <td>19.1</td>\n",
       "      <td>18.9</td>\n",
       "      <td>19.7</td>\n",
       "      <td>19.4</td>\n",
       "      <td>19.4</td>\n",
       "    </tr>\n",
       "    <tr>\n",
       "      <th>California</th>\n",
       "      <td>0.53</td>\n",
       "      <td>531</td>\n",
       "      <td>524</td>\n",
       "      <td>1055</td>\n",
       "      <td>0.31</td>\n",
       "      <td>22.5</td>\n",
       "      <td>22.7</td>\n",
       "      <td>23.1</td>\n",
       "      <td>22.2</td>\n",
       "      <td>22.8</td>\n",
       "      <td>0.60</td>\n",
       "      <td>540</td>\n",
       "      <td>536</td>\n",
       "      <td>1076</td>\n",
       "      <td>0.27</td>\n",
       "      <td>22.5</td>\n",
       "      <td>22.5</td>\n",
       "      <td>23.0</td>\n",
       "      <td>22.1</td>\n",
       "      <td>22.7</td>\n",
       "    </tr>\n",
       "  </tbody>\n",
       "</table>\n",
       "</div>"
      ],
      "text/plain": [
       "            sat_17_participation  sat_17_erw  sat_17_math  sat_17_total  \\\n",
       "state                                                                     \n",
       "Alabama                     0.05         593          572          1165   \n",
       "Alaska                      0.38         547          533          1080   \n",
       "Arizona                     0.30         563          553          1116   \n",
       "Arkansas                    0.03         614          594          1208   \n",
       "California                  0.53         531          524          1055   \n",
       "\n",
       "            act_17_participation  act_17_english  act_17_math  act_17_reading  \\\n",
       "state                                                                           \n",
       "Alabama                     1.00            18.9         18.4            19.7   \n",
       "Alaska                      0.65            18.7         19.8            20.4   \n",
       "Arizona                     0.62            18.6         19.8            20.1   \n",
       "Arkansas                    1.00            18.9         19.0            19.7   \n",
       "California                  0.31            22.5         22.7            23.1   \n",
       "\n",
       "            act_17_science  act_17_composite  sat_18_participation  \\\n",
       "state                                                                \n",
       "Alabama               19.4              19.2                  0.06   \n",
       "Alaska                19.9              19.8                  0.43   \n",
       "Arizona               19.8              19.7                  0.29   \n",
       "Arkansas              19.5              19.4                  0.05   \n",
       "California            22.2              22.8                  0.60   \n",
       "\n",
       "            sat_18_erw  sat_18_math  sat_18_total  act_18_participation  \\\n",
       "state                                                                     \n",
       "Alabama            595          571          1166                  1.00   \n",
       "Alaska             562          544          1106                  0.33   \n",
       "Arizona            577          572          1149                  0.66   \n",
       "Arkansas           592          576          1169                  1.00   \n",
       "California         540          536          1076                  0.27   \n",
       "\n",
       "            act_18_english  act_18_math  act_18_reading  act_18_science  \\\n",
       "state                                                                     \n",
       "Alabama               18.9         18.3            19.6            19.0   \n",
       "Alaska                19.8         20.6            21.6            20.7   \n",
       "Arizona               18.2         19.4            19.5            19.2   \n",
       "Arkansas              19.1         18.9            19.7            19.4   \n",
       "California            22.5         22.5            23.0            22.1   \n",
       "\n",
       "            act_18_composite  \n",
       "state                         \n",
       "Alabama                 19.1  \n",
       "Alaska                  20.8  \n",
       "Arizona                 19.2  \n",
       "Arkansas                19.4  \n",
       "California              22.7  "
      ]
     },
     "execution_count": 1114,
     "metadata": {},
     "output_type": "execute_result"
    }
   ],
   "source": [
    "final.head()"
   ]
  },
  {
   "cell_type": "code",
   "execution_count": 1115,
   "metadata": {},
   "outputs": [],
   "source": [
    "# list columns\n",
    "final.columns\n",
    "cols = ['sat_17_participation', 'sat_17_erw', 'sat_17_math', 'sat_17_total',\n",
    "       'sat_18_participation', 'sat_18_erw', 'sat_18_math', 'sat_18_total',\n",
    "        'act_17_participation', 'act_17_english', 'act_17_math',\n",
    "       'act_17_reading', 'act_17_science', 'act_17_composite',\n",
    "       'act_18_participation', 'act_18_english', 'act_18_math',\n",
    "       'act_18_reading', 'act_18_science', 'act_18_composite']"
   ]
  },
  {
   "cell_type": "code",
   "execution_count": 1116,
   "metadata": {},
   "outputs": [],
   "source": [
    "# reorder columns\n",
    "final = final[cols]"
   ]
  },
  {
   "cell_type": "code",
   "execution_count": 1117,
   "metadata": {},
   "outputs": [
    {
     "data": {
      "image/png": "[encoded data removed]",
      "text/plain": [
       "<Figure size 1224x648 with 2 Axes>"
      ]
     },
     "metadata": {},
     "output_type": "display_data"
    }
   ],
   "source": [
    "# Refer to 2.04_python-pandas-plots-starter-code for nicer plotting\n",
    "\n",
    "plt.figure(figsize=(17,9))\n",
    "corr = final.corr()\n",
    "\n",
    "# Set up mask to be \"True\" in the upper triangle.\n",
    "mask = np.zeros_like(corr)\n",
    "mask[np.triu_indices_from(mask)] = True\n",
    "\n",
    "# Plot our correlation heatmap, while masking the upper triangle to be white\n",
    "sns.heatmap(corr, mask = mask, vmax=.8, square=True, annot=True, cmap='vlag_r')\n",
    "plt.title('Explore potential correlations between numeric columns');"
   ]
  },
  {
   "cell_type": "markdown",
   "metadata": {},
   "source": [
    "There is a negative correlation between SAT participation and ACT participation rates.\n",
    "There is also a negative relationship between participation rates and total/composite scores on both tests."
   ]
  },
  {
   "cell_type": "markdown",
   "metadata": {},
   "source": [
    "#### Define a custom function to subplot histograms\n",
    "\n",
    "[Helpful Link for Plotting Multiple Figures](https://matplotlib.org/users/pyplot_tutorial.html#working-with-multiple-figures-and-axes)"
   ]
  },
  {
   "cell_type": "code",
   "execution_count": 1118,
   "metadata": {},
   "outputs": [],
   "source": [
    "# create histogram function\n",
    "def subplot_histograms(dataframe, list_of_columns, list_of_titles, xlabels):\n",
    "    nrows = int(np.ceil(len(list_of_columns)/2))\n",
    "    fig, ax = plt.subplots(nrows=2, ncols=2, figsize=(13,10)) \n",
    "    \n",
    "    # Ravel turns a matrix into a vector, which is easier to iterate\n",
    "    ax = ax.ravel() \n",
    "    \n",
    "    # Gives us an index value to get into all our lists\n",
    "    for i, column in enumerate(list_of_columns): \n",
    "        ax[i].hist(dataframe[column])\n",
    "        ax[i].axvline(dataframe[column].median(), c='red')\n",
    "        \n",
    "    # plot titles and xlabels    \n",
    "    for i, ax in enumerate(ax):\n",
    "        ax.set_title('{}'.format(list_of_titles[i]))\n",
    "        ax.set_xlabel(xlabels)\n",
    "        ax.set_ylabel('Frequency')\n",
    "\n",
    "    # adjust spacings between axes\n",
    "    plt.subplots_adjust(wspace=.25, hspace=.25)"
   ]
  },
  {
   "cell_type": "markdown",
   "metadata": {},
   "source": [
    "#### Plot and interpret histograms \n",
    "For each of the following:\n",
    "- Participation rates for SAT & ACT\n",
    "- Math scores for SAT & ACT\n",
    "- Reading/verbal scores for SAT & ACT"
   ]
  },
  {
   "cell_type": "code",
   "execution_count": 1119,
   "metadata": {},
   "outputs": [],
   "source": [
    "# create subsets/filters\n",
    "participation = ['sat_17_participation','sat_18_participation','act_17_participation','act_18_participation']\n",
    "math = ['sat_17_math','sat_18_math','act_17_math','act_18_math']\n",
    "read_verbal = ['sat_17_erw','sat_18_erw','act_17_reading','act_18_reading']\n",
    "\n",
    "# create title lists\n",
    "participation_titles = ['SAT 17 Part. Rate','SAT 18 Part. Rate','ACT 17 Part. Rate','ACT 18 Part. Rate']\n",
    "math_titles = ['SAT 17 Math','SAT 18 Math','ACT 17 Math','ACT 18 Math']\n",
    "read_verbal_titles = ['SAT 17 ERW','SAT 18 ERW','ACT 17 Reading','ACT 18 Reading']\n",
    "\n",
    "# create xlabels\n",
    "participation_xlabels = 'Proportion'\n",
    "math_xlabels = 'Math Scores'\n",
    "read_verbal_xlabels = 'Reading/Verbal Scores'"
   ]
  },
  {
   "cell_type": "code",
   "execution_count": 1120,
   "metadata": {},
   "outputs": [
    {
     "data": {
      "image/png": "[encoded data removed]",
      "text/plain": [
       "<Figure size 936x720 with 4 Axes>"
      ]
     },
     "metadata": {},
     "output_type": "display_data"
    }
   ],
   "source": [
    "subplot_histograms(final, participation, participation_titles, participation_xlabels);"
   ]
  },
  {
   "cell_type": "code",
   "execution_count": 1121,
   "metadata": {},
   "outputs": [
    {
     "data": {
      "image/png": "[encoded data removed]",
      "text/plain": [
       "<Figure size 936x720 with 4 Axes>"
      ]
     },
     "metadata": {},
     "output_type": "display_data"
    }
   ],
   "source": [
    "subplot_histograms(final, math, math_titles, math_xlabels);"
   ]
  },
  {
   "cell_type": "code",
   "execution_count": 1122,
   "metadata": {
    "scrolled": true
   },
   "outputs": [
    {
     "data": {
      "image/png": "[encoded data removed]",
      "text/plain": [
       "<Figure size 936x720 with 4 Axes>"
      ]
     },
     "metadata": {},
     "output_type": "display_data"
    }
   ],
   "source": [
    "subplot_histograms(final, read_verbal, read_verbal_titles, read_verbal_xlabels);"
   ]
  },
  {
   "cell_type": "markdown",
   "metadata": {},
   "source": [
    "For all of the above histograms, the mean was mostly not in the center indicating possible skews in data. One, due to outliers or majority performing badly, or two, that the data was not being sampled from a normal distribution, and hence, might not reflect the true population mean."
   ]
  },
  {
   "cell_type": "markdown",
   "metadata": {},
   "source": [
    "#### Plot and interpret scatter plots\n",
    "\n",
    "For each of the following:\n",
    "- SAT vs. ACT math scores for 2017\n",
    "- SAT vs. ACT verbal/reading scores for 2017\n",
    "- SAT vs. ACT total/composite scores for 2017\n",
    "- Total scores for SAT 2017 vs. 2018\n",
    "- Composite scores for ACT 2017 vs. 2018\n",
    "\n",
    "Your plots should show:\n",
    "- 2 clearly labeled axes\n",
    "- A proper title\n",
    "- Using colors and symbols that are clear and unmistakable"
   ]
  },
  {
   "cell_type": "code",
   "execution_count": 1123,
   "metadata": {
    "scrolled": true
   },
   "outputs": [
    {
     "data": {
      "image/png": "[encoded data removed]",
      "text/plain": [
       "<Figure size 1224x360 with 3 Axes>"
      ]
     },
     "metadata": {},
     "output_type": "display_data"
    }
   ],
   "source": [
    "# plot the Figure object\n",
    "fig = plt.figure(figsize=(17,5))\n",
    "\n",
    "# add the Axes 1 object to the Figure (2017 Math)\n",
    "ax1 = fig.add_subplot(1,3,1)\n",
    "sns.regplot(data=final, x='sat_17_math', y='act_17_math')\n",
    "\n",
    "# plot titles and labels\n",
    "plt.xlabel('SAT Math Scores')\n",
    "plt.ylabel('ACT Math Scores')\n",
    "plt.title(\"2017 SAT & ACT \\n(Math Scores)\", fontsize=13.5)\n",
    "\n",
    "# add the Axes 2 object to the Figure (2017 Reading/Verbal)\n",
    "ax2 = fig.add_subplot(1,3,2)\n",
    "sns.regplot(data=final, x='sat_17_erw', y='act_17_reading')\n",
    "plt.title(\"YOY ACT Composite Scores\\n2017-2018\")\n",
    "\n",
    "# plot titles and labels\n",
    "plt.xlabel('SAT ERW Scores')\n",
    "plt.ylabel('ACT Reading Scores')\n",
    "plt.title(\"2017 SAT & ACT \\n(Verbal/Reading Scores)\", fontsize=13.5);\n",
    "\n",
    "# add the Axes 3 object to the Figure (2017 Total/Composite Scores)\n",
    "ax3 = fig.add_subplot(1,3,3)\n",
    "sns.regplot(data=final, x='sat_17_total', y='act_17_composite')\n",
    "plt.title(\"YOY ACT Composite Scores\\n2017-2018\")\n",
    "\n",
    "# plot titles and labels\n",
    "plt.xlabel('SAT Total Scores')\n",
    "plt.ylabel('ACT Composite Scores')\n",
    "plt.title(\"2017 SAT & ACT \\n(Total/Composite Scores)\", fontsize=13.5);"
   ]
  },
  {
   "cell_type": "markdown",
   "metadata": {},
   "source": [
    "We observe a negative correlation *(as the value of one variable increases, the other decreases)* between ACT & SAT scores. This would be obvious as they are on different scales\n"
   ]
  },
  {
   "cell_type": "code",
   "execution_count": 1124,
   "metadata": {},
   "outputs": [
    {
     "data": {
      "image/png": "[encoded data removed]",
      "text/plain": [
       "<Figure size 1080x360 with 2 Axes>"
      ]
     },
     "metadata": {},
     "output_type": "display_data"
    }
   ],
   "source": [
    "# plot the Figure object for SAT & ACT Total/Composite scores\n",
    "fig = plt.figure(figsize=(15,5))\n",
    "\n",
    "# add the Axes 1 object to the Figure (SAT)\n",
    "ax1 = fig.add_subplot(1,2,1)\n",
    "sns.regplot(data=final, x='sat_18_total', y='sat_17_total')\n",
    "\n",
    "# plot titles and labels\n",
    "plt.xlabel('SAT 2018 Total Scores')\n",
    "plt.ylabel('SAT 2017 Total Scores')\n",
    "plt.title(\"YOY SAT Total Scores\\n2017-2018\", fontsize=12.5)\n",
    "\n",
    "# add the Axes 2 object to the Figure (ACT)\n",
    "ax2 = fig.add_subplot(1,2,2)\n",
    "sns.regplot(data=final, x='act_18_composite', y='act_17_composite')\n",
    "plt.title(\"YOY ACT Composite Scores\\n2017-2018\")\n",
    "\n",
    "# plot titles and labels\n",
    "plt.xlabel('ACT 2018 Composite Scores')\n",
    "plt.ylabel('ACT 2017 Composite Scores')\n",
    "plt.title(\"YOY ACT Composite Scores\\n2017-2018\", fontsize=12.5);"
   ]
  },
  {
   "cell_type": "markdown",
   "metadata": {},
   "source": [
    "#### Plot and interpret boxplots\n",
    "\n",
    "For each numeric variable in the dataframe create a boxplot using Seaborn. Boxplots demonstrate central tendency and spread in variables. In a certain sense, these are somewhat redundant with histograms, but you may be better able to identify clear outliers or differences in IQR, etc.\n",
    "\n",
    "Multiple values can be plotted to a single boxplot as long as they are of the same relative scale (meaning they have similar min/max values).\n",
    "\n",
    "Each boxplot should:\n",
    "- Only include variables of a similar scale\n",
    "- Have clear labels for each variable\n",
    "- Have appropriate titles and labels"
   ]
  },
  {
   "cell_type": "code",
   "execution_count": 1125,
   "metadata": {},
   "outputs": [],
   "source": [
    "# make a copy of original dataframe\n",
    "df = final.copy()\n",
    "df.reset_index(inplace=True)"
   ]
  },
  {
   "cell_type": "code",
   "execution_count": 1126,
   "metadata": {},
   "outputs": [],
   "source": [
    "# filter copied dataframe\n",
    "participation_df = df[['state','sat_17_participation', 'sat_18_participation', 'act_17_participation', 'act_18_participation']]\n",
    "\n",
    "# rename columns\n",
    "participation_df.columns = ['state', \"SAT '17'\", \"SAT '18\", \"ACT '17\", \"ACT '18\"]\n",
    "\n",
    "# unpivot participation_df for plotting in later stage\n",
    "participation_df = pd.melt(participation_df, id_vars='state')\n",
    "\n",
    "# create column to be able to differentiate by test type\n",
    "participation_df['test_type'] = 'SAT'\n",
    "participation_df.iloc[102:, -1] = 'ACT'"
   ]
  },
  {
   "cell_type": "code",
   "execution_count": 1127,
   "metadata": {
    "scrolled": false
   },
   "outputs": [
    {
     "data": {
      "image/png": "[encoded data removed]",
      "text/plain": [
       "<Figure size 720x504 with 1 Axes>"
      ]
     },
     "metadata": {},
     "output_type": "display_data"
    }
   ],
   "source": [
    "plt.figure(figsize=(10,7))\n",
    "\n",
    "sns.boxplot(data=participation_df, x='variable', y='value', hue=\"test_type\", palette=\"Set1\")\n",
    "plt.title('Partcipation Rates by Test type & Year', fontsize=14)\n",
    "plt.ylabel('Participation Rate')\n",
    "plt.xlabel('Test Type & Year')\n",
    "plt.legend(loc='center');"
   ]
  },
  {
   "cell_type": "markdown",
   "metadata": {},
   "source": [
    "### Exploring Trends between SAT & ACT Total/Composite scores\n",
    "\n",
    "Are there any additional trends or relationships you haven't explored? Was there something interesting you saw that you'd like to dive further into? It's likely that there are a few more plots you might want to generate to support your narrative and recommendations that you are building toward. **As always, make sure you're interpreting your plots as you go**."
   ]
  },
  {
   "cell_type": "markdown",
   "metadata": {},
   "source": [
    "#### (Optional): Using Tableau, create a choropleth map for each variable using a map of the US. \n",
    "\n",
    "Save this plot as an image file in an images directory, provide a relative path, and insert the image into notebook in markdown."
   ]
  },
  {
   "cell_type": "markdown",
   "metadata": {},
   "source": [
    "## Descriptive and Inferential Statistics"
   ]
  },
  {
   "cell_type": "markdown",
   "metadata": {},
   "source": [
    "#### Summarizing Distributions\n",
    "\n",
    "Above, we used pandas `describe` to provide quick summary statistics of our numeric columns. We also demonstrated many visual relationships.\n",
    "\n",
    "As data scientists, having a complete understanding of data is imperative prior to modeling.\n",
    "\n",
    "While we will continue to build our analytic tools, we know that measures of *central tendency*, *spread*, and *shape/skewness* provide a quick summary of distributions.\n",
    "\n",
    "For each variable in your data, summarize the underlying distributions (in words & statistics)\n",
    " - Be thorough in your verbal description of these distributions.\n",
    " - Be sure to back up these summaries with statistics."
   ]
  },
  {
   "cell_type": "code",
   "execution_count": null,
   "metadata": {},
   "outputs": [],
   "source": [
    "round(final.agg([np.mean, np.median, np.std, np.var, np.min, np.max]), 2)"
   ]
  },
  {
   "cell_type": "markdown",
   "metadata": {},
   "source": [
    "**Answer:**\n",
    "\n",
    "\n",
    "|Column Name|Description|\n",
    "|---|---|\n",
    "|sat_17_participation|Negatively skewed as seen in the mean being lower than the median|\n",
    "|sat_17_erw|Distribution is non-symmetric, & bidmodal seen in the two peaks of data|\n",
    "|sat_17_math|Distribution is evenly spread with mean & median being very close|\n",
    "|sat_17_total|Distribution is non-symmetric, & slightly bidmodal|\n",
    "|act_17_participation|Distribution is unimodal with many states having 100% part. rate|\n",
    "|act_17_english|Evenly spread, pretty normally distrubted, mean & median are almost equal|\n",
    "|act_17_math|Distribution is positively skewed, especially when compared to the other subtests|\n",
    "|act_17_reading|Evenly distributed, having its mean in the centre|\n",
    "|act_17_science|Shape of distribution is symmetrical, with two peaks|\n",
    "|act_17_composite|Rather evenly distributed, having its mean close in the centre|\n"
   ]
  },
  {
   "cell_type": "markdown",
   "metadata": {},
   "source": [
    "\n"
   ]
  },
  {
   "cell_type": "markdown",
   "metadata": {},
   "source": [
    "#### We are generally assuming that data we sample from a population will be normally distributed.       Do we observe this trend?"
   ]
  },
  {
   "cell_type": "markdown",
   "metadata": {},
   "source": [
    "**Answer:** "
   ]
  },
  {
   "cell_type": "markdown",
   "metadata": {},
   "source": [
    "$$ H_0: \\text{The data follows a normal distribution} $$\n",
    "$$ H_A: \\text{The data does not follow a normal distribution} $$\n",
    "\n",
    "\n",
    "$$ \\text{If p <= 𝛼, reject } H_0 $$\n",
    "$$ \\text{If p > 𝛼, fail to reject } H_0$$\n",
    "\n",
    "$$ \\text{𝛼 = 0.05} $$"
   ]
  },
  {
   "cell_type": "code",
   "execution_count": 1153,
   "metadata": {
    "scrolled": true
   },
   "outputs": [
    {
     "data": {
      "image/png": "[encoded data removed]",
      "text/plain": [
       "<Figure size 1080x360 with 2 Axes>"
      ]
     },
     "metadata": {},
     "output_type": "display_data"
    }
   ],
   "source": [
    "# plot the Figure object\n",
    "fig = plt.figure(figsize=(15,5))\n",
    "\n",
    "# add the Axes 1 object to the Figure\n",
    "ax1 = fig.add_subplot(1,2,1)\n",
    "sns.distplot(final['sat_17_participation'],bins=5, fit=norm)\n",
    "ax1.axvline(final['sat_17_participation'].mean(), c='red')\n",
    "\n",
    "# plot titles and labels\n",
    "plt.xlabel('2017 SAT Participation Rates')\n",
    "plt.ylabel('Frequency')\n",
    "plt.title('Test for Normality for Sat 2017');\n",
    "\n",
    "# add the Axes 2 object to the Figure\n",
    "ax2 = fig.add_subplot(1,2,2)\n",
    "sns.distplot(final['sat_18_participation'],bins=5, fit=norm, color='green')\n",
    "ax2.axvline(final['sat_18_participation'].mean(), c='red')\n",
    "\n",
    "# plot titles and labels\n",
    "plt.xlabel('2018 SAT Participation Rates')\n",
    "plt.title('Test for Normality for Sat 2018');"
   ]
  },
  {
   "cell_type": "markdown",
   "metadata": {},
   "source": [
    "Based on the above plots of the participation rates across the 51 states, we can see that the population of the data from which we sampled is not normally distributed."
   ]
  },
  {
   "cell_type": "code",
   "execution_count": 1165,
   "metadata": {},
   "outputs": [
    {
     "name": "stdout",
     "output_type": "stream",
     "text": [
      "Test statistic: 0.5079783137169019\n",
      "p-value:  1.0082794525495568e-12\n"
     ]
    }
   ],
   "source": [
    "# test for normality\n",
    "d, p_val = stats.kstest(final['sat_17_participation'], 'norm')\n",
    "print('Test statistic:', d)\n",
    "print('p-value: ', p_val)"
   ]
  },
  {
   "cell_type": "markdown",
   "metadata": {},
   "source": [
    "Since the **p value < α**, we can reject the null hypothesis that the sample data is normally distributed.   "
   ]
  },
  {
   "cell_type": "markdown",
   "metadata": {},
   "source": [
    "Does This Assumption Hold for:\n",
    "    - Math\n",
    "    - Reading\n",
    "    - Rates\n",
    "Explain your answers for each distribution and how you think this will affect estimates made from these data."
   ]
  },
  {
   "cell_type": "markdown",
   "metadata": {},
   "source": [
    "**Answer:**  \n",
    "\n",
    "Because the data from which we sample does not follow a normal distribution we know that the \n",
    "mean would not be an accurate indicator of the spread of data. "
   ]
  },
  {
   "cell_type": "markdown",
   "metadata": {},
   "source": [
    "#### Estimate Limits of Data\n",
    "\n",
    "Suppose we only seek to understand the relationship between SAT and ACT participation rates in 2017. \n",
    "**Does it make sense to conduct statistical inference given these data specifically?** \n",
    "\n",
    "Why or why not?  \n",
    "*(think about granularity, aggregation, the relationships between populations size & rates...consider the actually populations these data describe in answering this question)*"
   ]
  },
  {
   "cell_type": "markdown",
   "metadata": {},
   "source": [
    "**Answer:**  \n",
    "No it would not as the data is aggregated into 51 data points. Not allowing for us to do random sampling and do statistical testing in a way that is meaningful. \n",
    "If we were to have all the data points that contributed to the overall State score would make more sense to conduct statistical inference."
   ]
  },
  {
   "cell_type": "markdown",
   "metadata": {},
   "source": [
    "##### Is it appropriate to compare *these* specific SAT and ACT math scores? \n",
    "\n",
    "Why or why not?"
   ]
  },
  {
   "cell_type": "markdown",
   "metadata": {},
   "source": [
    "**Answer:**\n",
    "\n",
    "Yes, and no.   \n",
    "Yes, because of readily available score [conversion tables](https://collegereadiness.collegeboard.org/pdf/guide-2018-act-sat-concordance.pdf). Another argument would be it depends on you are comparing them, as will be demonstrated below.  \n",
    "No, because just like the rest of the data, the math scores are aggregated as well."
   ]
  },
  {
   "cell_type": "markdown",
   "metadata": {},
   "source": [
    "#### Statistical Evaluation of Distributions \n",
    "\n",
    "**If you feel it's appropriate**, using methods we discussed in class, run hypothesis tests to compare variables of interest in our dataset. "
   ]
  },
  {
   "cell_type": "code",
   "execution_count": null,
   "metadata": {},
   "outputs": [],
   "source": [
    "def ecdf(data):\n",
    "    \"\"\"Compute ECDF for a one-dimensional array of measurements\"\"\"\n",
    "    # Number of data points: n\n",
    "    n = len(data)\n",
    "\n",
    "    # x-data for the ECDF: x\n",
    "    x = np.sort(data)\n",
    "\n",
    "    # y-data for the ECDF: y\n",
    "    y = np.arange(1, n+1) / n\n",
    "\n",
    "    return x, y"
   ]
  },
  {
   "cell_type": "code",
   "execution_count": null,
   "metadata": {},
   "outputs": [],
   "source": [
    "x, y = ecdf(final['act_18_participation'])"
   ]
  },
  {
   "cell_type": "code",
   "execution_count": null,
   "metadata": {},
   "outputs": [],
   "source": [
    "plt.figure(figsize=(8,7))\n",
    "sns.set()\n",
    "plt.plot(x, y, marker=\".\", linestyle=\"none\")\n",
    "plt.xlabel(\"Participation Rates\")\n",
    "plt.ylabel(\"Cumulative Distribution Function\")"
   ]
  },
  {
   "cell_type": "code",
   "execution_count": null,
   "metadata": {},
   "outputs": [],
   "source": [
    "# bootstrap & generate 1,000 'participation rates' that follow a normal distribution \n",
    "# using the mean and the standard deviation of our dataset\n",
    "samples = np.random.normal(np.mean(final['act_18_participation']), np.std(final['act_18_participation']), size= 1000)"
   ]
  },
  {
   "cell_type": "code",
   "execution_count": null,
   "metadata": {},
   "outputs": [],
   "source": [
    "x_theor, y_theor = ecdf(samples)\n",
    "plt.plot(x_theor, y_theor)\n",
    "plt.legend(('Normal Distribution', 'Empirical Data'), loc='lower right');"
   ]
  },
  {
   "cell_type": "markdown",
   "metadata": {},
   "source": [
    "## Outside Research"
   ]
  },
  {
   "cell_type": "markdown",
   "metadata": {},
   "source": [
    "- Based upon your observations, choose **three** states that demonstrate interesting trends in their SAT and/or ACT participation rates.   \n",
    "- Spend some time doing outside research on state policies that might influence these rates, and summarize your findings below. **Feel free to go back and create new plots that highlight these states of interest**.     "
   ]
  },
  {
   "cell_type": "code",
   "execution_count": 1152,
   "metadata": {},
   "outputs": [
    {
     "data": {
      "image/png": "[encoded data removed]",
      "text/plain": [
       "<Figure size 1080x360 with 2 Axes>"
      ]
     },
     "metadata": {},
     "output_type": "display_data"
    }
   ],
   "source": [
    "# plot the Figure object for SAT & ACT Total/Composite scores\n",
    "fig = plt.figure(figsize=(15,5))\n",
    "\n",
    "# add the Axes 1 object to the Figure (SAT)\n",
    "ax1 = fig.add_subplot(1,2,1)\n",
    "sns.regplot(data=final, x='sat_18_total', y='sat_18_participation')\n",
    "\n",
    "# plot titles and labels\n",
    "plt.xlabel('SAT 2018 Total Scores')\n",
    "plt.ylabel('Partcipation Rate')\n",
    "plt.title(\"Correlation between SAT Total & Participation\", fontsize=12.5)\n",
    "\n",
    "# add the Axes 2 object to the Figure (ACT)\n",
    "ax2 = fig.add_subplot(1,2,2)\n",
    "sns.regplot(data=final, x='act_18_composite', y='act_18_participation')\n",
    "\n",
    "# plot titles and labels\n",
    "plt.xlabel('ACT 2018 Composite Scores')\n",
    "plt.ylabel('Partcipation Rate')\n",
    "plt.title(\"Correlation between ACT Composite & Participation\", fontsize=12.5);"
   ]
  },
  {
   "cell_type": "markdown",
   "metadata": {},
   "source": [
    "There is a negative correlation between overall total/composite scores with participation rate. We can speculate that this is so because most of them taking the tests are juniors. However, we would need to gather the demographics from another dataset."
   ]
  },
  {
   "cell_type": "code",
   "execution_count": 1150,
   "metadata": {},
   "outputs": [
    {
     "data": {
      "image/png": "[encoded data removed]",
      "text/plain": [
       "<Figure size 936x720 with 2 Axes>"
      ]
     },
     "metadata": {},
     "output_type": "display_data"
    }
   ],
   "source": [
    "# SAT and ACT participation trends\n",
    "plt.figure(figsize=(13,10))\n",
    "sns.heatmap(final[['sat_17_participation', 'sat_18_participation', 'act_17_participation', 'act_18_participation']].sort_values(by='act_18_participation', ascending=False), cmap='YlGnBu');"
   ]
  },
  {
   "cell_type": "markdown",
   "metadata": {},
   "source": [
    "## Conclusions"
   ]
  },
  {
   "cell_type": "markdown",
   "metadata": {},
   "source": [
    "- Based on the findings found in the 2017 & 2018 data, and after some analysis, it is amazing to see how the news confirms the data findings, i.e. that there is indeed a negative relationship between performance & participation.\n",
    "\n",
    "\n",
    "- It would have been useful to find other data sources to do more complex analysis, such as demographics data and how that can affect over all State test scores.\n",
    "\n",
    "\n",
    "- I initially tried to compile percentile data so to uniformalise the scores between SAT & ACT, however, there was not enough time to be able to conduct this investigation.\n"
   ]
  },
  {
   "cell_type": "markdown",
   "metadata": {},
   "source": [
    "## References"
   ]
  },
  {
   "cell_type": "markdown",
   "metadata": {},
   "source": [
    "- [1st ACT 2018 Dataset](https://magoosh.com/hs/act/2016/average-act-score-by-state/)\n",
    "- [2nd ACT 2018 Datset](https://www.act.org/content/dam/act/unsecured/documents/cccr2018/Average-Scores-by-State.pdf)\n",
    "- [SAT to ACT Conversion Table](https://collegereadiness.collegeboard.org/pdf/guide-2018-act-sat-concordance.pdf)\n",
    "- [ACT & SAT Scores and Percentiles](https://blog.prepscholar.com/sat-math-vs-act-math-whats-the-difference)"
   ]
  }
 ],
 "metadata": {
  "anaconda-cloud": {},
  "kernelspec": {
   "display_name": "Python 3",
   "language": "python",
   "name": "python3"
  },
  "language_info": {
   "codemirror_mode": {
    "name": "ipython",
    "version": 3
   },
   "file_extension": ".py",
   "mimetype": "text/x-python",
   "name": "python",
   "nbconvert_exporter": "python",
   "pygments_lexer": "ipython3",
   "version": "3.6.8"
  }
 },
 "nbformat": 4,
 "nbformat_minor": 2
}
